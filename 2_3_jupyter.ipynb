{
 "cells": [
  {
   "cell_type": "code",
   "execution_count": 12,
   "id": "e511c0ac",
   "metadata": {},
   "outputs": [],
   "source": [
    "import psycopg2\n",
    "import geopandas as gpd\n",
    "import matplotlib.pyplot as plt\n",
    "import numpy as np\n",
    "import pandas as pd\n",
    "\n",
    "from config import DB_CONFIG\n"
   ]
  },
  {
   "cell_type": "code",
   "execution_count": 13,
   "id": "13e4d320",
   "metadata": {},
   "outputs": [
    {
     "name": "stdout",
     "output_type": "stream",
     "text": [
      "Connected to DB\n"
     ]
    }
   ],
   "source": [
    "conn = psycopg2.connect(**DB_CONFIG)\n",
    "\n",
    "if conn.closed == 0:\n",
    "    print(\"Connected to DB\")\n",
    "\n",
    "all_points_sql = 'SELECT * FROM vessels_points_jan LIMIT 100000'\n",
    "\n",
    "all_points_gdf =  gpd.GeoDataFrame.from_postgis(all_points_sql, conn, geom_col='geom')"
   ]
  },
  {
   "cell_type": "code",
   "execution_count": 14,
   "id": "a011bf3d",
   "metadata": {},
   "outputs": [],
   "source": [
    "all_points_gdf['datetime'] = pd.to_datetime(all_points_gdf['timest'],unit='ms')\n"
   ]
  },
  {
   "cell_type": "code",
   "execution_count": 15,
   "id": "bc6b165b",
   "metadata": {},
   "outputs": [
    {
     "data": {
      "text/html": [
       "<div>\n",
       "<style scoped>\n",
       "    .dataframe tbody tr th:only-of-type {\n",
       "        vertical-align: middle;\n",
       "    }\n",
       "\n",
       "    .dataframe tbody tr th {\n",
       "        vertical-align: top;\n",
       "    }\n",
       "\n",
       "    .dataframe thead th {\n",
       "        text-align: right;\n",
       "    }\n",
       "</style>\n",
       "<table border=\"1\" class=\"dataframe\">\n",
       "  <thead>\n",
       "    <tr style=\"text-align: right;\">\n",
       "      <th></th>\n",
       "      <th>timest</th>\n",
       "      <th>dates</th>\n",
       "      <th>typee</th>\n",
       "      <th>mmsi</th>\n",
       "      <th>status</th>\n",
       "      <th>heading</th>\n",
       "      <th>turn</th>\n",
       "      <th>speed</th>\n",
       "      <th>course</th>\n",
       "      <th>geom</th>\n",
       "      <th>datetime</th>\n",
       "    </tr>\n",
       "  </thead>\n",
       "  <tbody>\n",
       "    <tr>\n",
       "      <th>90</th>\n",
       "      <td>1.516925e+12</td>\n",
       "      <td>2018-01-26 01:03:08</td>\n",
       "      <td>None</td>\n",
       "      <td>0</td>\n",
       "      <td>None</td>\n",
       "      <td>NaN</td>\n",
       "      <td>None</td>\n",
       "      <td>0.0</td>\n",
       "      <td>0.0</td>\n",
       "      <td>POINT (23.60814 37.95577)</td>\n",
       "      <td>2018-01-26 00:03:08</td>\n",
       "    </tr>\n",
       "    <tr>\n",
       "      <th>147</th>\n",
       "      <td>1.516925e+12</td>\n",
       "      <td>2018-01-26 01:03:18</td>\n",
       "      <td>None</td>\n",
       "      <td>0</td>\n",
       "      <td>None</td>\n",
       "      <td>NaN</td>\n",
       "      <td>None</td>\n",
       "      <td>0.0</td>\n",
       "      <td>0.0</td>\n",
       "      <td>POINT (23.60814 37.95577)</td>\n",
       "      <td>2018-01-26 00:03:18</td>\n",
       "    </tr>\n",
       "    <tr>\n",
       "      <th>271</th>\n",
       "      <td>1.516925e+12</td>\n",
       "      <td>2018-01-26 01:04:29</td>\n",
       "      <td>None</td>\n",
       "      <td>0</td>\n",
       "      <td>None</td>\n",
       "      <td>NaN</td>\n",
       "      <td>None</td>\n",
       "      <td>0.0</td>\n",
       "      <td>0.0</td>\n",
       "      <td>POINT (23.60814 37.95577)</td>\n",
       "      <td>2018-01-26 00:04:29</td>\n",
       "    </tr>\n",
       "    <tr>\n",
       "      <th>321</th>\n",
       "      <td>1.516925e+12</td>\n",
       "      <td>2018-01-26 01:04:57</td>\n",
       "      <td>None</td>\n",
       "      <td>0</td>\n",
       "      <td>None</td>\n",
       "      <td>NaN</td>\n",
       "      <td>None</td>\n",
       "      <td>0.0</td>\n",
       "      <td>0.0</td>\n",
       "      <td>POINT (23.60814 37.95577)</td>\n",
       "      <td>2018-01-26 00:04:57</td>\n",
       "    </tr>\n",
       "    <tr>\n",
       "      <th>340</th>\n",
       "      <td>1.516925e+12</td>\n",
       "      <td>2018-01-26 01:05:08</td>\n",
       "      <td>None</td>\n",
       "      <td>0</td>\n",
       "      <td>None</td>\n",
       "      <td>NaN</td>\n",
       "      <td>None</td>\n",
       "      <td>0.0</td>\n",
       "      <td>0.0</td>\n",
       "      <td>POINT (23.60814 37.95577)</td>\n",
       "      <td>2018-01-26 00:05:08</td>\n",
       "    </tr>\n",
       "  </tbody>\n",
       "</table>\n",
       "</div>"
      ],
      "text/plain": [
       "           timest               dates typee  mmsi status  heading  turn  \\\n",
       "90   1.516925e+12 2018-01-26 01:03:08  None     0   None      NaN  None   \n",
       "147  1.516925e+12 2018-01-26 01:03:18  None     0   None      NaN  None   \n",
       "271  1.516925e+12 2018-01-26 01:04:29  None     0   None      NaN  None   \n",
       "321  1.516925e+12 2018-01-26 01:04:57  None     0   None      NaN  None   \n",
       "340  1.516925e+12 2018-01-26 01:05:08  None     0   None      NaN  None   \n",
       "\n",
       "     speed  course                       geom            datetime  \n",
       "90     0.0     0.0  POINT (23.60814 37.95577) 2018-01-26 00:03:08  \n",
       "147    0.0     0.0  POINT (23.60814 37.95577) 2018-01-26 00:03:18  \n",
       "271    0.0     0.0  POINT (23.60814 37.95577) 2018-01-26 00:04:29  \n",
       "321    0.0     0.0  POINT (23.60814 37.95577) 2018-01-26 00:04:57  \n",
       "340    0.0     0.0  POINT (23.60814 37.95577) 2018-01-26 00:05:08  "
      ]
     },
     "execution_count": 15,
     "metadata": {},
     "output_type": "execute_result"
    }
   ],
   "source": [
    "all_points_gdf = all_points_gdf.sort_values(by=['mmsi','datetime'], ascending=[True,True])\n",
    "all_points_gdf.head()\n"
   ]
  },
  {
   "cell_type": "code",
   "execution_count": 16,
   "id": "8dfeff53",
   "metadata": {},
   "outputs": [
    {
     "name": "stdout",
     "output_type": "stream",
     "text": [
      "Number of records before removing duplicates: 500000\n",
      "Number of records after removing duplicates: 499638\n"
     ]
    },
    {
     "data": {
      "text/html": [
       "<div>\n",
       "<style scoped>\n",
       "    .dataframe tbody tr th:only-of-type {\n",
       "        vertical-align: middle;\n",
       "    }\n",
       "\n",
       "    .dataframe tbody tr th {\n",
       "        vertical-align: top;\n",
       "    }\n",
       "\n",
       "    .dataframe thead th {\n",
       "        text-align: right;\n",
       "    }\n",
       "</style>\n",
       "<table border=\"1\" class=\"dataframe\">\n",
       "  <thead>\n",
       "    <tr style=\"text-align: right;\">\n",
       "      <th></th>\n",
       "      <th>timest</th>\n",
       "      <th>dates</th>\n",
       "      <th>typee</th>\n",
       "      <th>mmsi</th>\n",
       "      <th>status</th>\n",
       "      <th>heading</th>\n",
       "      <th>turn</th>\n",
       "      <th>speed</th>\n",
       "      <th>course</th>\n",
       "      <th>geom</th>\n",
       "      <th>datetime</th>\n",
       "    </tr>\n",
       "  </thead>\n",
       "  <tbody>\n",
       "    <tr>\n",
       "      <th>90</th>\n",
       "      <td>1.516925e+12</td>\n",
       "      <td>2018-01-26 01:03:08</td>\n",
       "      <td>None</td>\n",
       "      <td>0</td>\n",
       "      <td>None</td>\n",
       "      <td>NaN</td>\n",
       "      <td>None</td>\n",
       "      <td>0.0</td>\n",
       "      <td>0.0</td>\n",
       "      <td>POINT (23.60814 37.95577)</td>\n",
       "      <td>2018-01-26 00:03:08</td>\n",
       "    </tr>\n",
       "    <tr>\n",
       "      <th>147</th>\n",
       "      <td>1.516925e+12</td>\n",
       "      <td>2018-01-26 01:03:18</td>\n",
       "      <td>None</td>\n",
       "      <td>0</td>\n",
       "      <td>None</td>\n",
       "      <td>NaN</td>\n",
       "      <td>None</td>\n",
       "      <td>0.0</td>\n",
       "      <td>0.0</td>\n",
       "      <td>POINT (23.60814 37.95577)</td>\n",
       "      <td>2018-01-26 00:03:18</td>\n",
       "    </tr>\n",
       "    <tr>\n",
       "      <th>271</th>\n",
       "      <td>1.516925e+12</td>\n",
       "      <td>2018-01-26 01:04:29</td>\n",
       "      <td>None</td>\n",
       "      <td>0</td>\n",
       "      <td>None</td>\n",
       "      <td>NaN</td>\n",
       "      <td>None</td>\n",
       "      <td>0.0</td>\n",
       "      <td>0.0</td>\n",
       "      <td>POINT (23.60814 37.95577)</td>\n",
       "      <td>2018-01-26 00:04:29</td>\n",
       "    </tr>\n",
       "    <tr>\n",
       "      <th>321</th>\n",
       "      <td>1.516925e+12</td>\n",
       "      <td>2018-01-26 01:04:57</td>\n",
       "      <td>None</td>\n",
       "      <td>0</td>\n",
       "      <td>None</td>\n",
       "      <td>NaN</td>\n",
       "      <td>None</td>\n",
       "      <td>0.0</td>\n",
       "      <td>0.0</td>\n",
       "      <td>POINT (23.60814 37.95577)</td>\n",
       "      <td>2018-01-26 00:04:57</td>\n",
       "    </tr>\n",
       "    <tr>\n",
       "      <th>340</th>\n",
       "      <td>1.516925e+12</td>\n",
       "      <td>2018-01-26 01:05:08</td>\n",
       "      <td>None</td>\n",
       "      <td>0</td>\n",
       "      <td>None</td>\n",
       "      <td>NaN</td>\n",
       "      <td>None</td>\n",
       "      <td>0.0</td>\n",
       "      <td>0.0</td>\n",
       "      <td>POINT (23.60814 37.95577)</td>\n",
       "      <td>2018-01-26 00:05:08</td>\n",
       "    </tr>\n",
       "  </tbody>\n",
       "</table>\n",
       "</div>"
      ],
      "text/plain": [
       "           timest               dates typee  mmsi status  heading  turn  \\\n",
       "90   1.516925e+12 2018-01-26 01:03:08  None     0   None      NaN  None   \n",
       "147  1.516925e+12 2018-01-26 01:03:18  None     0   None      NaN  None   \n",
       "271  1.516925e+12 2018-01-26 01:04:29  None     0   None      NaN  None   \n",
       "321  1.516925e+12 2018-01-26 01:04:57  None     0   None      NaN  None   \n",
       "340  1.516925e+12 2018-01-26 01:05:08  None     0   None      NaN  None   \n",
       "\n",
       "     speed  course                       geom            datetime  \n",
       "90     0.0     0.0  POINT (23.60814 37.95577) 2018-01-26 00:03:08  \n",
       "147    0.0     0.0  POINT (23.60814 37.95577) 2018-01-26 00:03:18  \n",
       "271    0.0     0.0  POINT (23.60814 37.95577) 2018-01-26 00:04:29  \n",
       "321    0.0     0.0  POINT (23.60814 37.95577) 2018-01-26 00:04:57  \n",
       "340    0.0     0.0  POINT (23.60814 37.95577) 2018-01-26 00:05:08  "
      ]
     },
     "execution_count": 16,
     "metadata": {},
     "output_type": "execute_result"
    }
   ],
   "source": [
    "cleansed_gdf = all_points_gdf.drop_duplicates(subset=['mmsi','datetime'])\n",
    "print('Number of records before removing duplicates: {}'.format(len(all_points_gdf)))\n",
    "print('Number of records after removing duplicates: {}'.format(len(cleansed_gdf)))\n",
    "cleansed_gdf.head()"
   ]
  },
  {
   "cell_type": "code",
   "execution_count": 17,
   "id": "ebe6c2b7",
   "metadata": {},
   "outputs": [],
   "source": [
    "def haversive_dist(p1,p2):\n",
    "    #lon1, lat1, lon2, lat2 = map(np.radians, [lon1, lat1, lon2, lat2])\n",
    "\n",
    "    dlon = p2.x - p1.x\n",
    "    dlat = p2.y - p1.y\n",
    "\n",
    "    a = np.sin(dlat/2.0)**2 + np.cos(p1.y) * np.cos(p2.y) * np.sin(dlon/2.0)**2\n",
    "\n",
    "    c = 2 * np.arcsin(np.sqrt(a))\n",
    "    km = 6371 * c\n",
    "    return km\n",
    "    \n"
   ]
  },
  {
   "cell_type": "code",
   "execution_count": 18,
   "id": "25e17d40",
   "metadata": {},
   "outputs": [],
   "source": [
    "def calculate_speed(df):\n",
    "    \"\"\"Calculating speed of a vessel for each point\"\"\"\n",
    "    \n",
    "    first_row = df.iloc[0,:]\n",
    "    for index, row in df[1:].iterrows():\n",
    "        second_row = row.copy()\n",
    "        hav_dist = haversive_dist(first_row.geom,second_row.geom)\n",
    "        df.loc[index,'distance_from_prev'] = hav_dist\n",
    "        time_diff = df.loc[index,'time_diff']\n",
    "        if pd.notna(time_diff) and time_diff != 0:\n",
    "            speed = hav_dist/time_diff\n",
    "            df.loc[index,'velocity'] = speed\n",
    "        first_row = second_row.copy()\n",
    "    #print('Group finished')\n",
    "    return df\n",
    "        \n",
    "        "
   ]
  },
  {
   "cell_type": "code",
   "execution_count": 19,
   "id": "535c6688",
   "metadata": {},
   "outputs": [
    {
     "name": "stderr",
     "output_type": "stream",
     "text": [
      "C:\\Users\\Tackk-is\\AppData\\Local\\Programs\\Python\\Python39\\lib\\site-packages\\geopandas\\geodataframe.py:1351: SettingWithCopyWarning: \n",
      "A value is trying to be set on a copy of a slice from a DataFrame.\n",
      "Try using .loc[row_indexer,col_indexer] = value instead\n",
      "\n",
      "See the caveats in the documentation: https://pandas.pydata.org/pandas-docs/stable/user_guide/indexing.html#returning-a-view-versus-a-copy\n",
      "  super().__setitem__(key, value)\n"
     ]
    }
   ],
   "source": [
    "cleansed_gdf['velocity'] = np.nan\n",
    "cleansed_gdf['distance_from_prev'] = np.nan\n",
    "cleansed_gdf['time_diff'] = cleansed_gdf['datetime'].diff().dt.total_seconds()\n",
    "cleansed_gdf = cleansed_gdf.groupby('mmsi',group_keys=False).apply(lambda group : calculate_speed(group))\n",
    "cleansed_gdf.dropna(subset=['velocity'],inplace=True)"
   ]
  },
  {
   "cell_type": "code",
   "execution_count": 23,
   "id": "c57baa1f",
   "metadata": {},
   "outputs": [
    {
     "data": {
      "text/plain": [
       "499345"
      ]
     },
     "execution_count": 23,
     "metadata": {},
     "output_type": "execute_result"
    }
   ],
   "source": [
    "len(cleansed_gdf)"
   ]
  },
  {
   "cell_type": "code",
   "execution_count": 24,
   "id": "5540b124",
   "metadata": {},
   "outputs": [],
   "source": [
    "x_axis = []\n",
    "for i in range(0,51):\n",
    "    x_axis.append(i*5)"
   ]
  },
  {
   "cell_type": "code",
   "execution_count": 25,
   "id": "6ff066f2",
   "metadata": {},
   "outputs": [
    {
     "data": {
      "image/png": "[encoded data removed]",
      "text/plain": [
       "<Figure size 432x288 with 1 Axes>"
      ]
     },
     "metadata": {
      "needs_background": "light"
     },
     "output_type": "display_data"
    }
   ],
   "source": [
    "plt.figure('Vessels Speed Distribution')\n",
    "plt.title('Vessels Speed Distribution')\n",
    "plt.hist(tmp['velocity'], log=True ,bins = x_axis, edgecolor = 'white')\n",
    "plt.xlabel('Speed')\n",
    "plt.ylabel('Records')\n",
    "plt.show()"
   ]
  },
  {
   "cell_type": "code",
   "execution_count": 26,
   "id": "a2608f50",
   "metadata": {},
   "outputs": [
    {
     "data": {
      "text/plain": [
       "293"
      ]
     },
     "execution_count": 26,
     "metadata": {},
     "output_type": "execute_result"
    }
   ],
   "source": [
    "len(cleansed_gdf['mmsi'].unique())"
   ]
  },
  {
   "cell_type": "code",
   "execution_count": 47,
   "id": "8015fe5a",
   "metadata": {},
   "outputs": [],
   "source": [
    "def del_speed_outlier(df):\n",
    "    outliers = []\n",
    "    mmsis = df['mmsi'].unique()\n",
    "    for i,mmsi in enumerate(mmsis):\n",
    "        df = df.drop(df[df['velocity'] > 60].index)\n",
    "    return df"
   ]
  },
  {
   "cell_type": "code",
   "execution_count": 48,
   "id": "42eaeb3f",
   "metadata": {},
   "outputs": [],
   "source": [
    "\n",
    "cleasned_gdf = del_speed_outlier(cleansed_gdf)"
   ]
  },
  {
   "cell_type": "code",
   "execution_count": 76,
   "id": "edd9567e",
   "metadata": {},
   "outputs": [
    {
     "data": {
      "image/png": "[encoded data removed]",
      "text/plain": [
       "<Figure size 432x288 with 1 Axes>"
      ]
     },
     "metadata": {
      "needs_background": "light"
     },
     "output_type": "display_data"
    }
   ],
   "source": [
    "plt.figure('Vessels Speed Distribution After Cleansing')\n",
    "plt.title('Vessels Speed Distribution After Cleansing')\n",
    "plt.hist(cleansed_gdf['velocity'], log=True ,bins = x_axis, edgecolor = 'white')\n",
    "plt.xlabel('Speed')\n",
    "plt.ylabel('Records')\n",
    "plt.show()"
   ]
  },
  {
   "cell_type": "code",
   "execution_count": null,
   "id": "54aa17cb",
   "metadata": {},
   "outputs": [],
   "source": []
  }
 ],
 "metadata": {
  "kernelspec": {
   "display_name": "Python 3 (ipykernel)",
   "language": "python",
   "name": "python3"
  },
  "language_info": {
   "codemirror_mode": {
    "name": "ipython",
    "version": 3
   },
   "file_extension": ".py",
   "mimetype": "text/x-python",
   "name": "python",
   "nbconvert_exporter": "python",
   "pygments_lexer": "ipython3",
   "version": "3.9.7"
  }
 },
 "nbformat": 4,
 "nbformat_minor": 5
}
