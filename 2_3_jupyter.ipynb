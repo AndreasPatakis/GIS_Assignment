{
 "cells": [
  {
   "cell_type": "code",
   "execution_count": 1,
   "id": "e511c0ac",
   "metadata": {},
   "outputs": [],
   "source": [
    "import psycopg2\n",
    "import geopandas as gpd\n",
    "import matplotlib.pyplot as plt\n",
    "import numpy as np\n",
    "import pandas as pd\n",
    "\n",
    "from config import DB_CONFIG\n"
   ]
  },
  {
   "cell_type": "code",
   "execution_count": 2,
   "id": "13e4d320",
   "metadata": {},
   "outputs": [
    {
     "name": "stdout",
     "output_type": "stream",
     "text": [
      "Connected to DB\n"
     ]
    }
   ],
   "source": [
    "conn = psycopg2.connect(**DB_CONFIG)\n",
    "\n",
    "if conn.closed == 0:\n",
    "    print(\"Connected to DB\")\n",
    "\n",
    "all_points_sql = 'SELECT * FROM vessels_points_jan_new LIMIT 1000000'\n",
    "\n",
    "all_points_gdf =  gpd.GeoDataFrame.from_postgis(all_points_sql, conn, geom_col='geom')"
   ]
  },
  {
   "cell_type": "code",
   "execution_count": 3,
   "id": "a011bf3d",
   "metadata": {},
   "outputs": [],
   "source": [
    "all_points_gdf['datetime'] = pd.to_datetime(all_points_gdf['timest'],unit='ms')\n",
    "#all_points_gdf['date'] = pd.to_datetime(all_points_gdf['timest'],unit='ms').dt.date\n",
    "#all_points_gdf['time'] = pd.to_datetime(all_points_gdf['timest'],unit='ms').dt.time\n"
   ]
  },
  {
   "cell_type": "code",
   "execution_count": 4,
   "id": "bc6b165b",
   "metadata": {},
   "outputs": [
    {
     "data": {
      "text/html": [
       "<div>\n",
       "<style scoped>\n",
       "    .dataframe tbody tr th:only-of-type {\n",
       "        vertical-align: middle;\n",
       "    }\n",
       "\n",
       "    .dataframe tbody tr th {\n",
       "        vertical-align: top;\n",
       "    }\n",
       "\n",
       "    .dataframe thead th {\n",
       "        text-align: right;\n",
       "    }\n",
       "</style>\n",
       "<table border=\"1\" class=\"dataframe\">\n",
       "  <thead>\n",
       "    <tr style=\"text-align: right;\">\n",
       "      <th></th>\n",
       "      <th>timest</th>\n",
       "      <th>mmsi</th>\n",
       "      <th>heading</th>\n",
       "      <th>turn</th>\n",
       "      <th>speed</th>\n",
       "      <th>course</th>\n",
       "      <th>geom</th>\n",
       "      <th>datetime</th>\n",
       "      <th>date</th>\n",
       "      <th>time</th>\n",
       "    </tr>\n",
       "  </thead>\n",
       "  <tbody>\n",
       "    <tr>\n",
       "      <th>66</th>\n",
       "      <td>1.515681e+12</td>\n",
       "      <td>0</td>\n",
       "      <td>NaN</td>\n",
       "      <td>None</td>\n",
       "      <td>0.0</td>\n",
       "      <td>0.0</td>\n",
       "      <td>POINT (23.60816 37.95578)</td>\n",
       "      <td>2018-01-11 14:37:38</td>\n",
       "      <td>2018-01-11</td>\n",
       "      <td>14:37:38</td>\n",
       "    </tr>\n",
       "    <tr>\n",
       "      <th>121</th>\n",
       "      <td>1.515681e+12</td>\n",
       "      <td>0</td>\n",
       "      <td>NaN</td>\n",
       "      <td>None</td>\n",
       "      <td>0.0</td>\n",
       "      <td>0.0</td>\n",
       "      <td>POINT (23.60816 37.95578)</td>\n",
       "      <td>2018-01-11 14:37:58</td>\n",
       "      <td>2018-01-11</td>\n",
       "      <td>14:37:58</td>\n",
       "    </tr>\n",
       "    <tr>\n",
       "      <th>189</th>\n",
       "      <td>1.515681e+12</td>\n",
       "      <td>0</td>\n",
       "      <td>NaN</td>\n",
       "      <td>None</td>\n",
       "      <td>0.0</td>\n",
       "      <td>0.0</td>\n",
       "      <td>POINT (23.60816 37.95578)</td>\n",
       "      <td>2018-01-11 14:38:19</td>\n",
       "      <td>2018-01-11</td>\n",
       "      <td>14:38:19</td>\n",
       "    </tr>\n",
       "    <tr>\n",
       "      <th>279</th>\n",
       "      <td>1.515682e+12</td>\n",
       "      <td>0</td>\n",
       "      <td>NaN</td>\n",
       "      <td>None</td>\n",
       "      <td>0.0</td>\n",
       "      <td>0.0</td>\n",
       "      <td>POINT (23.60816 37.95578)</td>\n",
       "      <td>2018-01-11 14:38:48</td>\n",
       "      <td>2018-01-11</td>\n",
       "      <td>14:38:48</td>\n",
       "    </tr>\n",
       "    <tr>\n",
       "      <th>317</th>\n",
       "      <td>1.515682e+12</td>\n",
       "      <td>0</td>\n",
       "      <td>NaN</td>\n",
       "      <td>None</td>\n",
       "      <td>0.0</td>\n",
       "      <td>0.0</td>\n",
       "      <td>POINT (23.60816 37.95578)</td>\n",
       "      <td>2018-01-11 14:38:58</td>\n",
       "      <td>2018-01-11</td>\n",
       "      <td>14:38:58</td>\n",
       "    </tr>\n",
       "  </tbody>\n",
       "</table>\n",
       "</div>"
      ],
      "text/plain": [
       "           timest  mmsi  heading  turn  speed  course  \\\n",
       "66   1.515681e+12     0      NaN  None    0.0     0.0   \n",
       "121  1.515681e+12     0      NaN  None    0.0     0.0   \n",
       "189  1.515681e+12     0      NaN  None    0.0     0.0   \n",
       "279  1.515682e+12     0      NaN  None    0.0     0.0   \n",
       "317  1.515682e+12     0      NaN  None    0.0     0.0   \n",
       "\n",
       "                          geom            datetime        date      time  \n",
       "66   POINT (23.60816 37.95578) 2018-01-11 14:37:38  2018-01-11  14:37:38  \n",
       "121  POINT (23.60816 37.95578) 2018-01-11 14:37:58  2018-01-11  14:37:58  \n",
       "189  POINT (23.60816 37.95578) 2018-01-11 14:38:19  2018-01-11  14:38:19  \n",
       "279  POINT (23.60816 37.95578) 2018-01-11 14:38:48  2018-01-11  14:38:48  \n",
       "317  POINT (23.60816 37.95578) 2018-01-11 14:38:58  2018-01-11  14:38:58  "
      ]
     },
     "execution_count": 4,
     "metadata": {},
     "output_type": "execute_result"
    }
   ],
   "source": [
    "all_points_gdf = all_points_gdf.sort_values(by=['mmsi','datetime'], ascending=[True,True])\n",
    "all_points_gdf.head()\n"
   ]
  },
  {
   "cell_type": "code",
   "execution_count": 5,
   "id": "8dfeff53",
   "metadata": {},
   "outputs": [
    {
     "name": "stdout",
     "output_type": "stream",
     "text": [
      "Number of records before removing duplicates: 1000000\n",
      "Number of records after removing duplicates: 997837\n"
     ]
    },
    {
     "data": {
      "text/html": [
       "<div>\n",
       "<style scoped>\n",
       "    .dataframe tbody tr th:only-of-type {\n",
       "        vertical-align: middle;\n",
       "    }\n",
       "\n",
       "    .dataframe tbody tr th {\n",
       "        vertical-align: top;\n",
       "    }\n",
       "\n",
       "    .dataframe thead th {\n",
       "        text-align: right;\n",
       "    }\n",
       "</style>\n",
       "<table border=\"1\" class=\"dataframe\">\n",
       "  <thead>\n",
       "    <tr style=\"text-align: right;\">\n",
       "      <th></th>\n",
       "      <th>timest</th>\n",
       "      <th>mmsi</th>\n",
       "      <th>heading</th>\n",
       "      <th>turn</th>\n",
       "      <th>speed</th>\n",
       "      <th>course</th>\n",
       "      <th>geom</th>\n",
       "      <th>datetime</th>\n",
       "      <th>date</th>\n",
       "      <th>time</th>\n",
       "    </tr>\n",
       "  </thead>\n",
       "  <tbody>\n",
       "    <tr>\n",
       "      <th>66</th>\n",
       "      <td>1.515681e+12</td>\n",
       "      <td>0</td>\n",
       "      <td>NaN</td>\n",
       "      <td>None</td>\n",
       "      <td>0.0</td>\n",
       "      <td>0.0</td>\n",
       "      <td>POINT (23.60816 37.95578)</td>\n",
       "      <td>2018-01-11 14:37:38</td>\n",
       "      <td>2018-01-11</td>\n",
       "      <td>14:37:38</td>\n",
       "    </tr>\n",
       "    <tr>\n",
       "      <th>121</th>\n",
       "      <td>1.515681e+12</td>\n",
       "      <td>0</td>\n",
       "      <td>NaN</td>\n",
       "      <td>None</td>\n",
       "      <td>0.0</td>\n",
       "      <td>0.0</td>\n",
       "      <td>POINT (23.60816 37.95578)</td>\n",
       "      <td>2018-01-11 14:37:58</td>\n",
       "      <td>2018-01-11</td>\n",
       "      <td>14:37:58</td>\n",
       "    </tr>\n",
       "    <tr>\n",
       "      <th>189</th>\n",
       "      <td>1.515681e+12</td>\n",
       "      <td>0</td>\n",
       "      <td>NaN</td>\n",
       "      <td>None</td>\n",
       "      <td>0.0</td>\n",
       "      <td>0.0</td>\n",
       "      <td>POINT (23.60816 37.95578)</td>\n",
       "      <td>2018-01-11 14:38:19</td>\n",
       "      <td>2018-01-11</td>\n",
       "      <td>14:38:19</td>\n",
       "    </tr>\n",
       "    <tr>\n",
       "      <th>279</th>\n",
       "      <td>1.515682e+12</td>\n",
       "      <td>0</td>\n",
       "      <td>NaN</td>\n",
       "      <td>None</td>\n",
       "      <td>0.0</td>\n",
       "      <td>0.0</td>\n",
       "      <td>POINT (23.60816 37.95578)</td>\n",
       "      <td>2018-01-11 14:38:48</td>\n",
       "      <td>2018-01-11</td>\n",
       "      <td>14:38:48</td>\n",
       "    </tr>\n",
       "    <tr>\n",
       "      <th>317</th>\n",
       "      <td>1.515682e+12</td>\n",
       "      <td>0</td>\n",
       "      <td>NaN</td>\n",
       "      <td>None</td>\n",
       "      <td>0.0</td>\n",
       "      <td>0.0</td>\n",
       "      <td>POINT (23.60816 37.95578)</td>\n",
       "      <td>2018-01-11 14:38:58</td>\n",
       "      <td>2018-01-11</td>\n",
       "      <td>14:38:58</td>\n",
       "    </tr>\n",
       "  </tbody>\n",
       "</table>\n",
       "</div>"
      ],
      "text/plain": [
       "           timest  mmsi  heading  turn  speed  course  \\\n",
       "66   1.515681e+12     0      NaN  None    0.0     0.0   \n",
       "121  1.515681e+12     0      NaN  None    0.0     0.0   \n",
       "189  1.515681e+12     0      NaN  None    0.0     0.0   \n",
       "279  1.515682e+12     0      NaN  None    0.0     0.0   \n",
       "317  1.515682e+12     0      NaN  None    0.0     0.0   \n",
       "\n",
       "                          geom            datetime        date      time  \n",
       "66   POINT (23.60816 37.95578) 2018-01-11 14:37:38  2018-01-11  14:37:38  \n",
       "121  POINT (23.60816 37.95578) 2018-01-11 14:37:58  2018-01-11  14:37:58  \n",
       "189  POINT (23.60816 37.95578) 2018-01-11 14:38:19  2018-01-11  14:38:19  \n",
       "279  POINT (23.60816 37.95578) 2018-01-11 14:38:48  2018-01-11  14:38:48  \n",
       "317  POINT (23.60816 37.95578) 2018-01-11 14:38:58  2018-01-11  14:38:58  "
      ]
     },
     "execution_count": 5,
     "metadata": {},
     "output_type": "execute_result"
    }
   ],
   "source": [
    "cleansed_gdf = all_points_gdf.drop_duplicates(subset=['mmsi','datetime'])\n",
    "print('Number of records before removing duplicates: {}'.format(len(all_points_gdf)))\n",
    "print('Number of records after removing duplicates: {}'.format(len(cleansed_gdf)))\n",
    "cleansed_gdf.head()"
   ]
  },
  {
   "cell_type": "code",
   "execution_count": 6,
   "id": "ebe6c2b7",
   "metadata": {},
   "outputs": [],
   "source": [
    "def haversive_dist(p1,p2):\n",
    "    #lon1, lat1, lon2, lat2 = map(np.radians, [lon1, lat1, lon2, lat2])\n",
    "\n",
    "    dlon = p2.x - p1.x\n",
    "    dlat = p2.y - p1.y\n",
    "\n",
    "    a = np.sin(dlat/2.0)**2 + np.cos(p1.y) * np.cos(p2.y) * np.sin(dlon/2.0)**2\n",
    "\n",
    "    c = 2 * np.arcsin(np.sqrt(a))\n",
    "    km = 6371 * c\n",
    "    return km\n",
    "    \n"
   ]
  },
  {
   "cell_type": "code",
   "execution_count": 68,
   "id": "25e17d40",
   "metadata": {},
   "outputs": [],
   "source": [
    "def calculate_speed(df):\n",
    "    \"\"\"Calculating speed of a vessel for each point\"\"\"\n",
    "    \n",
    "    df['time_diff'] = df['datetime'].diff().dt.total_seconds()\n",
    "    first_row = df.iloc[0,:]\n",
    "    for index, row in df[1:].iterrows():\n",
    "        second_row = row.copy()\n",
    "        hav_dist = haversive_dist(first_row.geom,second_row.geom)\n",
    "        df.loc[index,'distance_from_prev'] = hav_dist\n",
    "        time_diff = df.loc[index,'time_diff']\n",
    "        if pd.notna(time_diff) and time_diff != 0:\n",
    "            speed = hav_dist/time_diff\n",
    "            df.loc[index,'velocity'] = speed\n",
    "        first_row = second_row.copy()\n",
    "    #print('Group finished')\n",
    "    return df\n",
    "        \n",
    "        "
   ]
  },
  {
   "cell_type": "code",
   "execution_count": 69,
   "id": "535c6688",
   "metadata": {},
   "outputs": [],
   "source": [
    "cleansed_gdf['velocity'] = np.nan\n",
    "cleansed_gdf['distance_from_prev'] = np.nan\n",
    "cleansed_gdf = cleansed_gdf.groupby('mmsi',group_keys=False).apply(lambda group : calculate_speed(group))\n",
    "cleansed_gdf.dropna(subset=['velocity'],inplace=True)"
   ]
  },
  {
   "cell_type": "code",
   "execution_count": 70,
   "id": "c57baa1f",
   "metadata": {},
   "outputs": [
    {
     "data": {
      "text/html": [
       "<div>\n",
       "<style scoped>\n",
       "    .dataframe tbody tr th:only-of-type {\n",
       "        vertical-align: middle;\n",
       "    }\n",
       "\n",
       "    .dataframe tbody tr th {\n",
       "        vertical-align: top;\n",
       "    }\n",
       "\n",
       "    .dataframe thead th {\n",
       "        text-align: right;\n",
       "    }\n",
       "</style>\n",
       "<table border=\"1\" class=\"dataframe\">\n",
       "  <thead>\n",
       "    <tr style=\"text-align: right;\">\n",
       "      <th></th>\n",
       "      <th>timest</th>\n",
       "      <th>mmsi</th>\n",
       "      <th>heading</th>\n",
       "      <th>turn</th>\n",
       "      <th>speed</th>\n",
       "      <th>course</th>\n",
       "      <th>geom</th>\n",
       "      <th>datetime</th>\n",
       "      <th>date</th>\n",
       "      <th>time</th>\n",
       "      <th>velocity</th>\n",
       "      <th>distance_from_prev</th>\n",
       "      <th>diff</th>\n",
       "      <th>time_diff</th>\n",
       "    </tr>\n",
       "  </thead>\n",
       "  <tbody>\n",
       "    <tr>\n",
       "      <th>279</th>\n",
       "      <td>1.515682e+12</td>\n",
       "      <td>0</td>\n",
       "      <td>NaN</td>\n",
       "      <td>None</td>\n",
       "      <td>0.0</td>\n",
       "      <td>0.0</td>\n",
       "      <td>POINT (23.60816 37.95578)</td>\n",
       "      <td>2018-01-11 14:38:48</td>\n",
       "      <td>2018-01-11</td>\n",
       "      <td>14:38:48</td>\n",
       "      <td>0.0</td>\n",
       "      <td>0.0</td>\n",
       "      <td>29.0</td>\n",
       "      <td>29.0</td>\n",
       "    </tr>\n",
       "    <tr>\n",
       "      <th>317</th>\n",
       "      <td>1.515682e+12</td>\n",
       "      <td>0</td>\n",
       "      <td>NaN</td>\n",
       "      <td>None</td>\n",
       "      <td>0.0</td>\n",
       "      <td>0.0</td>\n",
       "      <td>POINT (23.60816 37.95578)</td>\n",
       "      <td>2018-01-11 14:38:58</td>\n",
       "      <td>2018-01-11</td>\n",
       "      <td>14:38:58</td>\n",
       "      <td>0.0</td>\n",
       "      <td>0.0</td>\n",
       "      <td>10.0</td>\n",
       "      <td>10.0</td>\n",
       "    </tr>\n",
       "    <tr>\n",
       "      <th>348</th>\n",
       "      <td>1.515682e+12</td>\n",
       "      <td>0</td>\n",
       "      <td>NaN</td>\n",
       "      <td>None</td>\n",
       "      <td>0.0</td>\n",
       "      <td>0.0</td>\n",
       "      <td>POINT (23.60816 37.95578)</td>\n",
       "      <td>2018-01-11 14:39:09</td>\n",
       "      <td>2018-01-11</td>\n",
       "      <td>14:39:09</td>\n",
       "      <td>0.0</td>\n",
       "      <td>0.0</td>\n",
       "      <td>11.0</td>\n",
       "      <td>11.0</td>\n",
       "    </tr>\n",
       "    <tr>\n",
       "      <th>378</th>\n",
       "      <td>1.515682e+12</td>\n",
       "      <td>0</td>\n",
       "      <td>NaN</td>\n",
       "      <td>None</td>\n",
       "      <td>0.0</td>\n",
       "      <td>0.0</td>\n",
       "      <td>POINT (23.60816 37.95578)</td>\n",
       "      <td>2018-01-11 14:39:19</td>\n",
       "      <td>2018-01-11</td>\n",
       "      <td>14:39:19</td>\n",
       "      <td>0.0</td>\n",
       "      <td>0.0</td>\n",
       "      <td>10.0</td>\n",
       "      <td>10.0</td>\n",
       "    </tr>\n",
       "    <tr>\n",
       "      <th>488</th>\n",
       "      <td>1.515682e+12</td>\n",
       "      <td>0</td>\n",
       "      <td>NaN</td>\n",
       "      <td>None</td>\n",
       "      <td>0.0</td>\n",
       "      <td>0.0</td>\n",
       "      <td>POINT (23.60816 37.95578)</td>\n",
       "      <td>2018-01-11 14:39:58</td>\n",
       "      <td>2018-01-11</td>\n",
       "      <td>14:39:58</td>\n",
       "      <td>0.0</td>\n",
       "      <td>0.0</td>\n",
       "      <td>39.0</td>\n",
       "      <td>39.0</td>\n",
       "    </tr>\n",
       "  </tbody>\n",
       "</table>\n",
       "</div>"
      ],
      "text/plain": [
       "           timest  mmsi  heading  turn  speed  course  \\\n",
       "279  1.515682e+12     0      NaN  None    0.0     0.0   \n",
       "317  1.515682e+12     0      NaN  None    0.0     0.0   \n",
       "348  1.515682e+12     0      NaN  None    0.0     0.0   \n",
       "378  1.515682e+12     0      NaN  None    0.0     0.0   \n",
       "488  1.515682e+12     0      NaN  None    0.0     0.0   \n",
       "\n",
       "                          geom            datetime        date      time  \\\n",
       "279  POINT (23.60816 37.95578) 2018-01-11 14:38:48  2018-01-11  14:38:48   \n",
       "317  POINT (23.60816 37.95578) 2018-01-11 14:38:58  2018-01-11  14:38:58   \n",
       "348  POINT (23.60816 37.95578) 2018-01-11 14:39:09  2018-01-11  14:39:09   \n",
       "378  POINT (23.60816 37.95578) 2018-01-11 14:39:19  2018-01-11  14:39:19   \n",
       "488  POINT (23.60816 37.95578) 2018-01-11 14:39:58  2018-01-11  14:39:58   \n",
       "\n",
       "     velocity  distance_from_prev  diff  time_diff  \n",
       "279       0.0                 0.0  29.0       29.0  \n",
       "317       0.0                 0.0  10.0       10.0  \n",
       "348       0.0                 0.0  11.0       11.0  \n",
       "378       0.0                 0.0  10.0       10.0  \n",
       "488       0.0                 0.0  39.0       39.0  "
      ]
     },
     "execution_count": 70,
     "metadata": {},
     "output_type": "execute_result"
    }
   ],
   "source": [
    "cleansed_gdf.head()"
   ]
  },
  {
   "cell_type": "code",
   "execution_count": 71,
   "id": "5540b124",
   "metadata": {},
   "outputs": [],
   "source": [
    "x_axis = []\n",
    "for i in range(0,51):\n",
    "    x_axis.append(i*5)"
   ]
  },
  {
   "cell_type": "code",
   "execution_count": 72,
   "id": "6ff066f2",
   "metadata": {},
   "outputs": [
    {
     "data": {
      "image/png": "[encoded data removed]",
      "text/plain": [
       "<Figure size 432x288 with 1 Axes>"
      ]
     },
     "metadata": {
      "needs_background": "light"
     },
     "output_type": "display_data"
    }
   ],
   "source": [
    "plt.figure('Vessels Speed Distribution')\n",
    "plt.title('Vessels Speed Distribution')\n",
    "plt.hist(cleansed_gdf['velocity'], log=True ,bins = x_axis, edgecolor = 'white')\n",
    "plt.xlabel('Speed')\n",
    "plt.ylabel('Records')\n",
    "plt.show()"
   ]
  },
  {
   "cell_type": "code",
   "execution_count": 73,
   "id": "a2608f50",
   "metadata": {},
   "outputs": [
    {
     "data": {
      "text/plain": [
       "400"
      ]
     },
     "execution_count": 73,
     "metadata": {},
     "output_type": "execute_result"
    }
   ],
   "source": [
    "len(cleansed_gdf['mmsi'].unique())"
   ]
  },
  {
   "cell_type": "code",
   "execution_count": 74,
   "id": "8015fe5a",
   "metadata": {},
   "outputs": [],
   "source": [
    "def del_speed_outlier(df):\n",
    "    outliers = []\n",
    "    mmsis = df['mmsi'].unique()\n",
    "    for i,mmsi in enumerate(mmsis):\n",
    "        df.drop(df[ (df['mmsi'] == mmsi) & (df['velocity'] > 60)].index, inplace=True)\n",
    "    return df"
   ]
  },
  {
   "cell_type": "code",
   "execution_count": 75,
   "id": "42eaeb3f",
   "metadata": {},
   "outputs": [
    {
     "name": "stdout",
     "output_type": "stream",
     "text": [
      "Before deletion of speed outliers: 996539\n",
      "After deletion of speed outliers: 997343\n"
     ]
    }
   ],
   "source": [
    "print('Before deletion of speed outliers: {}'.format(len(cleansed_gdf)))\n",
    "cleansed_gdf = del_speed_outlier(cleansed_gdf)\n",
    "print('After deletion of speed outliers: {}'.format(len(tmp)))"
   ]
  },
  {
   "cell_type": "code",
   "execution_count": 76,
   "id": "edd9567e",
   "metadata": {},
   "outputs": [
    {
     "data": {
      "image/png": "[encoded data removed]",
      "text/plain": [
       "<Figure size 432x288 with 1 Axes>"
      ]
     },
     "metadata": {
      "needs_background": "light"
     },
     "output_type": "display_data"
    }
   ],
   "source": [
    "plt.figure('Vessels Speed Distribution After Cleansing')\n",
    "plt.title('Vessels Speed Distribution After Cleansing')\n",
    "plt.hist(cleansed_gdf['velocity'], log=True ,bins = x_axis, edgecolor = 'white')\n",
    "plt.xlabel('Speed')\n",
    "plt.ylabel('Records')\n",
    "plt.show()"
   ]
  },
  {
   "cell_type": "code",
   "execution_count": null,
   "id": "54aa17cb",
   "metadata": {},
   "outputs": [],
   "source": []
  }
 ],
 "metadata": {
  "kernelspec": {
   "display_name": "Python 3 (ipykernel)",
   "language": "python",
   "name": "python3"
  },
  "language_info": {
   "codemirror_mode": {
    "name": "ipython",
    "version": 3
   },
   "file_extension": ".py",
   "mimetype": "text/x-python",
   "name": "python",
   "nbconvert_exporter": "python",
   "pygments_lexer": "ipython3",
   "version": "3.9.7"
  }
 },
 "nbformat": 4,
 "nbformat_minor": 5
}
