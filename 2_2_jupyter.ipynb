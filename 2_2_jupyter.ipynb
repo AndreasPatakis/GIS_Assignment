{
 "cells": [
  {
   "cell_type": "code",
   "execution_count": 1,
   "id": "a732ec4c",
   "metadata": {},
   "outputs": [],
   "source": [
    "import psycopg2\n",
    "import geopandas as gpd\n",
    "import matplotlib.pyplot as plt\n",
    "import numpy as np\n",
    "\n",
    "from config import DB_CONFIG\n"
   ]
  },
  {
   "cell_type": "code",
   "execution_count": 2,
   "id": "0e02e61a",
   "metadata": {},
   "outputs": [],
   "source": [
    "NUM_OF_VESSELS = 50000\n",
    "\n",
    "conn = psycopg2.connect(**DB_CONFIG)\n",
    "traj_sql = f'SELECT mmsi, dates, geom FROM vessels_points_jan ORDER BY mmsi DESC, dates DESC LIMIT {NUM_OF_VESSELS}'\n",
    "df = gpd.GeoDataFrame.from_postgis(traj_sql, conn, geom_col='geom').drop('geom', axis=1)"
   ]
  },
  {
   "cell_type": "code",
   "execution_count": 3,
   "id": "abc71bc0",
   "metadata": {},
   "outputs": [],
   "source": [
    "vessel_stamps = [df[df['mmsi'] == vessel] for vessel in df.mmsi.unique()]\n",
    "\n",
    "less_than = [0] * 50"
   ]
  },
  {
   "cell_type": "code",
   "execution_count": 4,
   "id": "7b71655d",
   "metadata": {},
   "outputs": [],
   "source": [
    "# stamps: mmsi | date pairs for each vessel sorted by date\n",
    "for stamps in vessel_stamps:\n",
    "    for i in range(len(stamps.dates) - 1):\n",
    "        stamp = stamps.iloc[i].dates\n",
    "        prev_stamp = stamps.iloc[i+1].dates\n",
    "        days_diff = (stamp - prev_stamp).days\n",
    "\n",
    "        # Less than a day difference\n",
    "        if(days_diff == 0):\n",
    "            sec = (stamp - prev_stamp).seconds\n",
    "            pos = int(sec/5)\n",
    "\n",
    "            if(pos>=49):\n",
    "                pos = 49\n",
    "\n",
    "            less_than[pos] +=1\n"
   ]
  },
  {
   "cell_type": "code",
   "execution_count": 5,
   "id": "844cfde2",
   "metadata": {},
   "outputs": [],
   "source": [
    "# TODO Calculate average time difference (sample rate) per ship\n",
    "\n",
    "#PLOT\n",
    "x_axis = []\n",
    "for i in range(0,51):\n",
    "    x_axis.append(i*5)"
   ]
  },
  {
   "cell_type": "code",
   "execution_count": 7,
   "id": "45274db9",
   "metadata": {},
   "outputs": [
    {
     "data": {
      "image/png": "[encoded data removed]",
      "text/plain": [
       "<Figure size 432x288 with 1 Axes>"
      ]
     },
     "metadata": {
      "needs_background": "light"
     },
     "output_type": "display_data"
    }
   ],
   "source": [
    "plt.figure('Sample rate per vessel')\n",
    "plt.hist(less_than,log=True ,bins = x_axis, edgecolor = 'white')\n",
    "plt.ylabel('Records')\n",
    "plt.xlabel('Seconds')\n",
    "#plt.xticks(np.arange(0,255,5))\n",
    "plt.show()\n",
    "\n",
    "conn.close()"
   ]
  },
  {
   "cell_type": "code",
   "execution_count": null,
   "id": "50d5c351",
   "metadata": {},
   "outputs": [],
   "source": []
  }
 ],
 "metadata": {
  "kernelspec": {
   "display_name": "Python 3 (ipykernel)",
   "language": "python",
   "name": "python3"
  },
  "language_info": {
   "codemirror_mode": {
    "name": "ipython",
    "version": 3
   },
   "file_extension": ".py",
   "mimetype": "text/x-python",
   "name": "python",
   "nbconvert_exporter": "python",
   "pygments_lexer": "ipython3",
   "version": "3.9.7"
  }
 },
 "nbformat": 4,
 "nbformat_minor": 5
}
