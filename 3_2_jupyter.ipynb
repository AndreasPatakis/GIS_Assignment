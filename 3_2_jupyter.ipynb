{
 "cells": [
  {
   "cell_type": "code",
   "execution_count": 15,
   "id": "74c0b2ae",
   "metadata": {},
   "outputs": [],
   "source": [
    "import psycopg2\n",
    "import geopandas as gpd\n",
    "import pandas as pd\n",
    "import matplotlib.pyplot as plt\n",
    "import numpy as np\n",
    "from sqlalchemy import create_engine\n",
    "from shapely.geometry import Point, LineString\n",
    "from shapely import wkt\n",
    "\n",
    "from config import DB_CONFIG\n"
   ]
  },
  {
   "cell_type": "code",
   "execution_count": 16,
   "id": "98eddd74",
   "metadata": {},
   "outputs": [
    {
     "name": "stdout",
     "output_type": "stream",
     "text": [
      "Connected to DB\n"
     ]
    }
   ],
   "source": [
    "conn = psycopg2.connect(**DB_CONFIG)\n",
    "\n",
    "if conn.closed == 0:\n",
    "    print(\"Connected to DB\")\n",
    "\n",
    "all_points_sql = 'SELECT * FROM segmented_trajectories ORDER BY mmsi ASC,points DESC LIMIT 100000'\n",
    "\n",
    "seg_traj =  gpd.GeoDataFrame.from_postgis(all_points_sql, conn, geom_col='geometry')\n"
   ]
  },
  {
   "cell_type": "code",
   "execution_count": 17,
   "id": "1a952f70",
   "metadata": {},
   "outputs": [
    {
     "data": {
      "text/html": [
       "<div>\n",
       "<style scoped>\n",
       "    .dataframe tbody tr th:only-of-type {\n",
       "        vertical-align: middle;\n",
       "    }\n",
       "\n",
       "    .dataframe tbody tr th {\n",
       "        vertical-align: top;\n",
       "    }\n",
       "\n",
       "    .dataframe thead th {\n",
       "        text-align: right;\n",
       "    }\n",
       "</style>\n",
       "<table border=\"1\" class=\"dataframe\">\n",
       "  <thead>\n",
       "    <tr style=\"text-align: right;\">\n",
       "      <th></th>\n",
       "      <th>mmsi</th>\n",
       "      <th>starting_on</th>\n",
       "      <th>ending_on</th>\n",
       "      <th>points</th>\n",
       "      <th>geometry</th>\n",
       "    </tr>\n",
       "  </thead>\n",
       "  <tbody>\n",
       "    <tr>\n",
       "      <th>0</th>\n",
       "      <td>642167061</td>\n",
       "      <td>2018-01-01 00:54:38</td>\n",
       "      <td>2018-01-15 20:35:04</td>\n",
       "      <td>39</td>\n",
       "      <td>LINESTRING (23.61625 37.81482, 23.65744 37.837...</td>\n",
       "    </tr>\n",
       "    <tr>\n",
       "      <th>1</th>\n",
       "      <td>642167061</td>\n",
       "      <td>2018-01-01 00:24:18</td>\n",
       "      <td>2018-01-01 00:50:17</td>\n",
       "      <td>14</td>\n",
       "      <td>LINESTRING (23.48296 37.83409, 23.48442 37.833...</td>\n",
       "    </tr>\n",
       "    <tr>\n",
       "      <th>2</th>\n",
       "      <td>667005041</td>\n",
       "      <td>2018-01-09 06:21:35</td>\n",
       "      <td>2018-01-09 07:23:45</td>\n",
       "      <td>250</td>\n",
       "      <td>LINESTRING (23.66069 37.84075, 23.65996 37.842...</td>\n",
       "    </tr>\n",
       "    <tr>\n",
       "      <th>3</th>\n",
       "      <td>667005041</td>\n",
       "      <td>2018-01-09 07:24:55</td>\n",
       "      <td>2018-01-09 07:50:55</td>\n",
       "      <td>131</td>\n",
       "      <td>LINESTRING (23.61366 37.90261, 23.61367 37.902...</td>\n",
       "    </tr>\n",
       "    <tr>\n",
       "      <th>4</th>\n",
       "      <td>667005041</td>\n",
       "      <td>2018-01-09 08:14:25</td>\n",
       "      <td>2018-01-09 08:35:55</td>\n",
       "      <td>102</td>\n",
       "      <td>LINESTRING (23.60248 37.93727, 23.60249 37.938...</td>\n",
       "    </tr>\n",
       "    <tr>\n",
       "      <th>...</th>\n",
       "      <td>...</td>\n",
       "      <td>...</td>\n",
       "      <td>...</td>\n",
       "      <td>...</td>\n",
       "      <td>...</td>\n",
       "    </tr>\n",
       "    <tr>\n",
       "      <th>224</th>\n",
       "      <td>677083400</td>\n",
       "      <td>2018-01-24 17:02:38</td>\n",
       "      <td>2018-01-26 16:38:05</td>\n",
       "      <td>11</td>\n",
       "      <td>LINESTRING (23.55005 37.95493, 23.55005 37.954...</td>\n",
       "    </tr>\n",
       "    <tr>\n",
       "      <th>225</th>\n",
       "      <td>677083400</td>\n",
       "      <td>2018-01-26 16:44:06</td>\n",
       "      <td>2018-01-26 16:53:13</td>\n",
       "      <td>5</td>\n",
       "      <td>LINESTRING (23.59756 37.92680, 23.59755 37.926...</td>\n",
       "    </tr>\n",
       "    <tr>\n",
       "      <th>226</th>\n",
       "      <td>677083400</td>\n",
       "      <td>2018-01-22 20:53:15</td>\n",
       "      <td>2018-01-24 13:30:26</td>\n",
       "      <td>2</td>\n",
       "      <td>LINESTRING (23.55055 37.95504, 23.55051 37.95517)</td>\n",
       "    </tr>\n",
       "    <tr>\n",
       "      <th>227</th>\n",
       "      <td>677083400</td>\n",
       "      <td>2018-01-26 19:52:52</td>\n",
       "      <td>2018-01-26 19:53:03</td>\n",
       "      <td>2</td>\n",
       "      <td>LINESTRING (23.61460 37.92277, 23.61458 37.92270)</td>\n",
       "    </tr>\n",
       "    <tr>\n",
       "      <th>228</th>\n",
       "      <td>677083400</td>\n",
       "      <td>2018-01-26 19:42:57</td>\n",
       "      <td>2018-01-26 19:45:58</td>\n",
       "      <td>2</td>\n",
       "      <td>LINESTRING (23.61569 37.92394, 23.61414 37.92391)</td>\n",
       "    </tr>\n",
       "  </tbody>\n",
       "</table>\n",
       "<p>229 rows × 5 columns</p>\n",
       "</div>"
      ],
      "text/plain": [
       "          mmsi         starting_on           ending_on  points  \\\n",
       "0    642167061 2018-01-01 00:54:38 2018-01-15 20:35:04      39   \n",
       "1    642167061 2018-01-01 00:24:18 2018-01-01 00:50:17      14   \n",
       "2    667005041 2018-01-09 06:21:35 2018-01-09 07:23:45     250   \n",
       "3    667005041 2018-01-09 07:24:55 2018-01-09 07:50:55     131   \n",
       "4    667005041 2018-01-09 08:14:25 2018-01-09 08:35:55     102   \n",
       "..         ...                 ...                 ...     ...   \n",
       "224  677083400 2018-01-24 17:02:38 2018-01-26 16:38:05      11   \n",
       "225  677083400 2018-01-26 16:44:06 2018-01-26 16:53:13       5   \n",
       "226  677083400 2018-01-22 20:53:15 2018-01-24 13:30:26       2   \n",
       "227  677083400 2018-01-26 19:52:52 2018-01-26 19:53:03       2   \n",
       "228  677083400 2018-01-26 19:42:57 2018-01-26 19:45:58       2   \n",
       "\n",
       "                                              geometry  \n",
       "0    LINESTRING (23.61625 37.81482, 23.65744 37.837...  \n",
       "1    LINESTRING (23.48296 37.83409, 23.48442 37.833...  \n",
       "2    LINESTRING (23.66069 37.84075, 23.65996 37.842...  \n",
       "3    LINESTRING (23.61366 37.90261, 23.61367 37.902...  \n",
       "4    LINESTRING (23.60248 37.93727, 23.60249 37.938...  \n",
       "..                                                 ...  \n",
       "224  LINESTRING (23.55005 37.95493, 23.55005 37.954...  \n",
       "225  LINESTRING (23.59756 37.92680, 23.59755 37.926...  \n",
       "226  LINESTRING (23.55055 37.95504, 23.55051 37.95517)  \n",
       "227  LINESTRING (23.61460 37.92277, 23.61458 37.92270)  \n",
       "228  LINESTRING (23.61569 37.92394, 23.61414 37.92391)  \n",
       "\n",
       "[229 rows x 5 columns]"
      ]
     },
     "execution_count": 17,
     "metadata": {},
     "output_type": "execute_result"
    }
   ],
   "source": [
    "seg_traj.head(500)"
   ]
  },
  {
   "cell_type": "code",
   "execution_count": 18,
   "id": "37befd99",
   "metadata": {},
   "outputs": [],
   "source": [
    "seg_traj=seg_traj.set_crs(4326)\n",
    "seg_traj = seg_traj.to_crs(2100)"
   ]
  },
  {
   "cell_type": "code",
   "execution_count": 19,
   "id": "cb2c5eb5",
   "metadata": {},
   "outputs": [
    {
     "data": {
      "text/html": [
       "<div>\n",
       "<style scoped>\n",
       "    .dataframe tbody tr th:only-of-type {\n",
       "        vertical-align: middle;\n",
       "    }\n",
       "\n",
       "    .dataframe tbody tr th {\n",
       "        vertical-align: top;\n",
       "    }\n",
       "\n",
       "    .dataframe thead th {\n",
       "        text-align: right;\n",
       "    }\n",
       "</style>\n",
       "<table border=\"1\" class=\"dataframe\">\n",
       "  <thead>\n",
       "    <tr style=\"text-align: right;\">\n",
       "      <th></th>\n",
       "      <th>mmsi</th>\n",
       "      <th>starting_on</th>\n",
       "      <th>ending_on</th>\n",
       "      <th>points</th>\n",
       "      <th>geometry</th>\n",
       "    </tr>\n",
       "  </thead>\n",
       "  <tbody>\n",
       "    <tr>\n",
       "      <th>0</th>\n",
       "      <td>642167061</td>\n",
       "      <td>2018-01-01 00:54:38</td>\n",
       "      <td>2018-01-15 20:35:04</td>\n",
       "      <td>39</td>\n",
       "      <td>LINESTRING (466073.445 4185050.944, 469708.471...</td>\n",
       "    </tr>\n",
       "    <tr>\n",
       "      <th>1</th>\n",
       "      <td>642167061</td>\n",
       "      <td>2018-01-01 00:24:18</td>\n",
       "      <td>2018-01-01 00:50:17</td>\n",
       "      <td>14</td>\n",
       "      <td>LINESTRING (454353.403 4187245.499, 454481.342...</td>\n",
       "    </tr>\n",
       "    <tr>\n",
       "      <th>2</th>\n",
       "      <td>667005041</td>\n",
       "      <td>2018-01-09 06:21:35</td>\n",
       "      <td>2018-01-09 07:23:45</td>\n",
       "      <td>250</td>\n",
       "      <td>LINESTRING (469995.582 4187912.741, 469931.280...</td>\n",
       "    </tr>\n",
       "    <tr>\n",
       "      <th>3</th>\n",
       "      <td>667005041</td>\n",
       "      <td>2018-01-09 07:24:55</td>\n",
       "      <td>2018-01-09 07:50:55</td>\n",
       "      <td>131</td>\n",
       "      <td>LINESTRING (465885.928 4194791.864, 465886.377...</td>\n",
       "    </tr>\n",
       "    <tr>\n",
       "      <th>4</th>\n",
       "      <td>667005041</td>\n",
       "      <td>2018-01-09 08:14:25</td>\n",
       "      <td>2018-01-09 08:35:55</td>\n",
       "      <td>102</td>\n",
       "      <td>LINESTRING (464919.591 4198642.137, 464920.235...</td>\n",
       "    </tr>\n",
       "  </tbody>\n",
       "</table>\n",
       "</div>"
      ],
      "text/plain": [
       "        mmsi         starting_on           ending_on  points  \\\n",
       "0  642167061 2018-01-01 00:54:38 2018-01-15 20:35:04      39   \n",
       "1  642167061 2018-01-01 00:24:18 2018-01-01 00:50:17      14   \n",
       "2  667005041 2018-01-09 06:21:35 2018-01-09 07:23:45     250   \n",
       "3  667005041 2018-01-09 07:24:55 2018-01-09 07:50:55     131   \n",
       "4  667005041 2018-01-09 08:14:25 2018-01-09 08:35:55     102   \n",
       "\n",
       "                                            geometry  \n",
       "0  LINESTRING (466073.445 4185050.944, 469708.471...  \n",
       "1  LINESTRING (454353.403 4187245.499, 454481.342...  \n",
       "2  LINESTRING (469995.582 4187912.741, 469931.280...  \n",
       "3  LINESTRING (465885.928 4194791.864, 465886.377...  \n",
       "4  LINESTRING (464919.591 4198642.137, 464920.235...  "
      ]
     },
     "execution_count": 19,
     "metadata": {},
     "output_type": "execute_result"
    }
   ],
   "source": [
    "seg_traj.head()"
   ]
  },
  {
   "cell_type": "code",
   "execution_count": 8,
   "id": "3a413f61",
   "metadata": {},
   "outputs": [
    {
     "data": {
      "text/plain": [
       "10590.942493168586"
      ]
     },
     "execution_count": 8,
     "metadata": {},
     "output_type": "execute_result"
    }
   ],
   "source": [
    "seg_traj.iloc[1,:]['geometry'].length"
   ]
  },
  {
   "cell_type": "code",
   "execution_count": 20,
   "id": "cabb1ef1",
   "metadata": {},
   "outputs": [],
   "source": [
    "def traj_distance(traj1,traj2):\n",
    "    \n",
    "    ctrDist = abs(traj1['geometry'].centroid.distance(traj2['geometry'].centroid))\n",
    "    traj1_length = abs(traj1['geometry'].length)\n",
    "    traj2_length = abs(traj2['geometry'].length)\n",
    "    \n",
    "    \n",
    "    \n",
    "    s1_first, s1_last = traj1['geometry'].boundary\n",
    "    \n",
    "    s1 = s1_first.distance(s1_last)\n",
    "    \n",
    "    s2_first, s2_last = traj2['geometry'].boundary\n",
    "        \n",
    "    s2 = s2_first.distance(s2_last)\n",
    "    \n",
    "    s_matrix = np.array([[s1_first.x,s1_first.y],[s2_first.x,s2_last.y]])\n",
    "    avg = sum([abs(s1),abs(s2)])/2\n",
    "    \n",
    "    \n",
    "    dot_product = np.dot(s_matrix.T[0,:],s_matrix.T[1,:])\n",
    "    sum_squares = np.sqrt(np.sum(np.square(s_matrix.T[0,:])))*np.sqrt(np.sum(np.square(s_matrix.T[1,:])))\n",
    "    cos_sim = dot_product/sum_squares\n",
    "    \n",
    "\n",
    "    \n",
    "    distance = ctrDist + ctrDist*abs((traj1_length-traj2_length)/max(traj1_length,traj2_length)) + (-1*avg*cos_sim)\n",
    "    \n",
    "    return distance"
   ]
  },
  {
   "cell_type": "code",
   "execution_count": 10,
   "id": "f6c74352",
   "metadata": {},
   "outputs": [
    {
     "data": {
      "text/plain": [
       "1469.8568997369493"
      ]
     },
     "execution_count": 10,
     "metadata": {},
     "output_type": "execute_result"
    }
   ],
   "source": [
    "traj_distance(seg_traj.iloc[0,:],seg_traj.iloc[1,:])"
   ]
  },
  {
   "cell_type": "code",
   "execution_count": 11,
   "id": "28710ec9",
   "metadata": {},
   "outputs": [],
   "source": [
    "#Trajecotries with similary geographical trajectories\n",
    "\n",
    "#Similairty calculated using Geographic Distance from the paper:\n",
    "#https://www.cise.ufl.edu/~mschneid/Research/papers/LS12IWGS.pdf?fbclid=IwAR1vcSg4sRxdz7qBaSr9vmRiu3lMe0WryzRlZzPzheUcE9fH6RexVuZzSBQ\n",
    "#\n",
    "# With the similairty distance formula being:\n",
    "    \n",
    "#     geoDist(tra1, tra2) = ctrDist(tra1, tra2)\n",
    "#     + ctrDist(tra1, tra2) × | ‖tra1‖−‖tra2‖ |\n",
    "#     max(‖tra1, ‖tra2‖)−avg(‖s1‖, ‖s2‖) ×cos(s1, s2) \n",
    "\n",
    "\n",
    "\n",
    "similar_traj = []\n",
    "leader_traj = seg_traj.iloc[2,:]\n",
    "for index,row in seg_traj.iterrows():\n",
    "    if traj_distance(row,leader_traj) < 500:\n",
    "        similar_traj.append(row)"
   ]
  },
  {
   "cell_type": "code",
   "execution_count": 12,
   "id": "db53a4ea",
   "metadata": {},
   "outputs": [
    {
     "data": {
      "text/plain": [
       "4"
      ]
     },
     "execution_count": 12,
     "metadata": {},
     "output_type": "execute_result"
    }
   ],
   "source": [
    "len(similar_traj)"
   ]
  },
  {
   "cell_type": "code",
   "execution_count": 16,
   "id": "f8c6aa64",
   "metadata": {},
   "outputs": [],
   "source": [
    "gdf = gpd.GeoDataFrame(similar_traj, columns=('mmsi','starting_on','ending_on','points' ,'geometry'))\n"
   ]
  },
  {
   "cell_type": "code",
   "execution_count": 17,
   "id": "94ec4f0c",
   "metadata": {},
   "outputs": [
    {
     "data": {
      "text/html": [
       "<div>\n",
       "<style scoped>\n",
       "    .dataframe tbody tr th:only-of-type {\n",
       "        vertical-align: middle;\n",
       "    }\n",
       "\n",
       "    .dataframe tbody tr th {\n",
       "        vertical-align: top;\n",
       "    }\n",
       "\n",
       "    .dataframe thead th {\n",
       "        text-align: right;\n",
       "    }\n",
       "</style>\n",
       "<table border=\"1\" class=\"dataframe\">\n",
       "  <thead>\n",
       "    <tr style=\"text-align: right;\">\n",
       "      <th></th>\n",
       "      <th>mmsi</th>\n",
       "      <th>starting_on</th>\n",
       "      <th>ending_on</th>\n",
       "      <th>points</th>\n",
       "      <th>geometry</th>\n",
       "    </tr>\n",
       "  </thead>\n",
       "  <tbody>\n",
       "    <tr>\n",
       "      <th>0</th>\n",
       "      <td>642167061</td>\n",
       "      <td>2018-01-01 00:54:38</td>\n",
       "      <td>2018-01-15 20:35:04</td>\n",
       "      <td>39</td>\n",
       "      <td>LINESTRING (466073.445 4185050.944, 469708.471...</td>\n",
       "    </tr>\n",
       "    <tr>\n",
       "      <th>2</th>\n",
       "      <td>667005041</td>\n",
       "      <td>2018-01-09 06:21:35</td>\n",
       "      <td>2018-01-09 07:23:45</td>\n",
       "      <td>250</td>\n",
       "      <td>LINESTRING (469995.582 4187912.741, 469931.280...</td>\n",
       "    </tr>\n",
       "    <tr>\n",
       "      <th>83</th>\n",
       "      <td>671389000</td>\n",
       "      <td>2018-01-10 16:19:36</td>\n",
       "      <td>2018-01-10 17:31:33</td>\n",
       "      <td>305</td>\n",
       "      <td>LINESTRING (469791.470 4186956.343, 469322.137...</td>\n",
       "    </tr>\n",
       "    <tr>\n",
       "      <th>84</th>\n",
       "      <td>671389000</td>\n",
       "      <td>2018-01-11 18:49:25</td>\n",
       "      <td>2018-01-11 20:04:34</td>\n",
       "      <td>235</td>\n",
       "      <td>LINESTRING (461040.103 4195435.081, 461033.081...</td>\n",
       "    </tr>\n",
       "  </tbody>\n",
       "</table>\n",
       "</div>"
      ],
      "text/plain": [
       "         mmsi         starting_on           ending_on  points  \\\n",
       "0   642167061 2018-01-01 00:54:38 2018-01-15 20:35:04      39   \n",
       "2   667005041 2018-01-09 06:21:35 2018-01-09 07:23:45     250   \n",
       "83  671389000 2018-01-10 16:19:36 2018-01-10 17:31:33     305   \n",
       "84  671389000 2018-01-11 18:49:25 2018-01-11 20:04:34     235   \n",
       "\n",
       "                                             geometry  \n",
       "0   LINESTRING (466073.445 4185050.944, 469708.471...  \n",
       "2   LINESTRING (469995.582 4187912.741, 469931.280...  \n",
       "83  LINESTRING (469791.470 4186956.343, 469322.137...  \n",
       "84  LINESTRING (461040.103 4195435.081, 461033.081...  "
      ]
     },
     "execution_count": 17,
     "metadata": {},
     "output_type": "execute_result"
    }
   ],
   "source": [
    "gdf.head()\n"
   ]
  },
  {
   "cell_type": "code",
   "execution_count": 228,
   "id": "f0f42475",
   "metadata": {},
   "outputs": [],
   "source": [
    "engine = create_engine(f'postgresql://{DB_CONFIG[\"user\"]}:{DB_CONFIG[\"password\"]}@{DB_CONFIG[\"host\"]}:5433/{DB_CONFIG[\"database\"]}')"
   ]
  },
  {
   "cell_type": "code",
   "execution_count": 229,
   "id": "48c7664c",
   "metadata": {},
   "outputs": [],
   "source": [
    "gdf.to_postgis('similar_trajectories', engine)"
   ]
  },
  {
   "cell_type": "code",
   "execution_count": 22,
   "id": "68a684df",
   "metadata": {},
   "outputs": [],
   "source": [
    "#Trajecotries with similar geographical trajectories, in a given time period(e.g Date)\n",
    "\n",
    "similar_day_traj = []\n",
    "leader_traj = seg_traj.iloc[2,:]\n",
    "for index,row in seg_traj.iterrows():\n",
    "    if traj_distance(row,leader_traj) < 500:\n",
    "        if (row['starting_on']-leader_traj['starting_on']).days <= 0:\n",
    "            similar_day_traj.append(row)\n",
    "            \n"
   ]
  },
  {
   "cell_type": "code",
   "execution_count": 23,
   "id": "c1b9aa2b",
   "metadata": {},
   "outputs": [
    {
     "data": {
      "text/plain": [
       "[mmsi                                                   642167061\n",
       " starting_on                                  2018-01-01 00:54:38\n",
       " ending_on                                    2018-01-15 20:35:04\n",
       " points                                                        39\n",
       " geometry       LINESTRING (466073.4447602328 4185050.94364822...\n",
       " Name: 0, dtype: object,\n",
       " mmsi                                                   667005041\n",
       " starting_on                                  2018-01-09 06:21:35\n",
       " ending_on                                    2018-01-09 07:23:45\n",
       " points                                                       250\n",
       " geometry       LINESTRING (469995.582160474 4187912.741008276...\n",
       " Name: 2, dtype: object]"
      ]
     },
     "execution_count": 23,
     "metadata": {},
     "output_type": "execute_result"
    }
   ],
   "source": [
    "similar_day_traj"
   ]
  },
  {
   "cell_type": "code",
   "execution_count": null,
   "id": "4ae3a5c7",
   "metadata": {},
   "outputs": [],
   "source": []
  }
 ],
 "metadata": {
  "kernelspec": {
   "display_name": "Python 3 (ipykernel)",
   "language": "python",
   "name": "python3"
  },
  "language_info": {
   "codemirror_mode": {
    "name": "ipython",
    "version": 3
   },
   "file_extension": ".py",
   "mimetype": "text/x-python",
   "name": "python",
   "nbconvert_exporter": "python",
   "pygments_lexer": "ipython3",
   "version": "3.9.7"
  }
 },
 "nbformat": 4,
 "nbformat_minor": 5
}
