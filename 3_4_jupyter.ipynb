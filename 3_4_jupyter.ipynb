{
 "metadata": {
  "language_info": {
   "codemirror_mode": {
    "name": "ipython",
    "version": 3
   },
   "file_extension": ".py",
   "mimetype": "text/x-python",
   "name": "python",
   "nbconvert_exporter": "python",
   "pygments_lexer": "ipython3",
   "version": "3.9.7-final"
  },
  "orig_nbformat": 2,
  "kernelspec": {
   "name": "python39764bitvenvvenv58ae8a988b374e6f8014e1c9f0223def",
   "display_name": "Python 3.9.7 64-bit ('.venv': venv)"
  }
 },
 "nbformat": 4,
 "nbformat_minor": 2,
 "cells": [
  {
   "source": [
    "# Vessel Hotspots"
   ],
   "cell_type": "markdown",
   "metadata": {}
  },
  {
   "cell_type": "code",
   "execution_count": 1,
   "metadata": {},
   "outputs": [],
   "source": [
    "from sklearn.cluster import KMeans\n",
    "from matplotlib import pyplot as plt\n",
    "from sqlalchemy import create_engine\n",
    "from geoalchemy2 import Geometry\n",
    "from shapely.geometry import Point\n",
    "import geopandas as gpd\n",
    "import numpy as np\n",
    "\n",
    "from config import DB_CONFIG\n",
    "from preprocess import cleanse"
   ]
  },
  {
   "source": [
    "### DB Connection Setup"
   ],
   "cell_type": "markdown",
   "metadata": {}
  },
  {
   "cell_type": "code",
   "execution_count": 2,
   "metadata": {},
   "outputs": [],
   "source": [
    "engine = create_engine(f'postgresql://{DB_CONFIG[\"user\"]}:{DB_CONFIG[\"password\"]}@{DB_CONFIG[\"host\"]}:5432/{DB_CONFIG[\"database\"]}')\n",
    "\n",
    "NUM_OF_VESSELS = 500000\n",
    "\n",
    "traj_sql = f'''\n",
    "SELECT timest, dates, mmsi, heading, speed, course, geom FROM vessels_points_jan\n",
    "WHERE ST_X(ST_Centroid(ST_Transform(geom, 4326))) != 0 \n",
    "OR ST_Y(ST_Centroid(ST_Transform(geom, 4326))) != 0 LIMIT {NUM_OF_VESSELS};\n",
    "'''"
   ]
  },
  {
   "source": [
    "### Read the dataset from PostGIS"
   ],
   "cell_type": "markdown",
   "metadata": {}
  },
  {
   "cell_type": "code",
   "execution_count": 3,
   "metadata": {},
   "outputs": [],
   "source": [
    "gdf = gpd.GeoDataFrame.from_postgis(traj_sql, engine, geom_col='geom')"
   ]
  },
  {
   "source": [
    "### Cleanse the dataset"
   ],
   "cell_type": "markdown",
   "metadata": {}
  },
  {
   "cell_type": "code",
   "execution_count": 4,
   "metadata": {},
   "outputs": [],
   "source": [
    "gdf = cleanse(gdf)"
   ]
  },
  {
   "source": [
    "### KMeans clustering"
   ],
   "cell_type": "markdown",
   "metadata": {}
  },
  {
   "cell_type": "code",
   "execution_count": 5,
   "metadata": {},
   "outputs": [],
   "source": [
    "# Create input vector from longitude and latitude\n",
    "X=np.column_stack((gdf.geom.x, gdf.geom.y))\n",
    "kmeans = KMeans(n_clusters = 7, random_state = 5,  max_iter = 400)\n",
    "y_kmeans = kmeans.fit_predict(X)"
   ]
  },
  {
   "source": [
    "### Dataframe with points and clusters"
   ],
   "cell_type": "markdown",
   "metadata": {}
  },
  {
   "cell_type": "code",
   "execution_count": 6,
   "metadata": {},
   "outputs": [
    {
     "output_type": "execute_result",
     "data": {
      "text/plain": [
       "                    geometry  hotspot\n",
       "0  POINT (23.68041 37.93103)        5\n",
       "1  POINT (23.68041 37.93104)        5\n",
       "2  POINT (23.68041 37.93104)        5\n",
       "3  POINT (23.63999 37.94265)        2\n",
       "4  POINT (23.68041 37.93104)        5"
      ],
      "text/html": "<div>\n<style scoped>\n    .dataframe tbody tr th:only-of-type {\n        vertical-align: middle;\n    }\n\n    .dataframe tbody tr th {\n        vertical-align: top;\n    }\n\n    .dataframe thead th {\n        text-align: right;\n    }\n</style>\n<table border=\"1\" class=\"dataframe\">\n  <thead>\n    <tr style=\"text-align: right;\">\n      <th></th>\n      <th>geometry</th>\n      <th>hotspot</th>\n    </tr>\n  </thead>\n  <tbody>\n    <tr>\n      <th>0</th>\n      <td>POINT (23.68041 37.93103)</td>\n      <td>5</td>\n    </tr>\n    <tr>\n      <th>1</th>\n      <td>POINT (23.68041 37.93104)</td>\n      <td>5</td>\n    </tr>\n    <tr>\n      <th>2</th>\n      <td>POINT (23.68041 37.93104)</td>\n      <td>5</td>\n    </tr>\n    <tr>\n      <th>3</th>\n      <td>POINT (23.63999 37.94265)</td>\n      <td>2</td>\n    </tr>\n    <tr>\n      <th>4</th>\n      <td>POINT (23.68041 37.93104)</td>\n      <td>5</td>\n    </tr>\n  </tbody>\n</table>\n</div>"
     },
     "metadata": {},
     "execution_count": 6
    }
   ],
   "source": [
    "clustered_points = gpd.GeoDataFrame({'geometry': map(lambda p: Point(p), X), 'hotspot': y_kmeans})\n",
    "clustered_points.head()"
   ]
  },
  {
   "source": [
    "### Cluster centers"
   ],
   "cell_type": "markdown",
   "metadata": {}
  },
  {
   "cell_type": "code",
   "execution_count": 7,
   "metadata": {},
   "outputs": [
    {
     "output_type": "execute_result",
     "data": {
      "text/plain": [
       "   hotspot                   geometry\n",
       "0        0  POINT (23.59464 37.90098)\n",
       "1        1  POINT (23.55553 37.95431)\n",
       "2        2  POINT (23.63977 37.94226)\n",
       "3        3  POINT (23.53577 37.86141)\n",
       "4        4  POINT (23.60300 37.95217)"
      ],
      "text/html": "<div>\n<style scoped>\n    .dataframe tbody tr th:only-of-type {\n        vertical-align: middle;\n    }\n\n    .dataframe tbody tr th {\n        vertical-align: top;\n    }\n\n    .dataframe thead th {\n        text-align: right;\n    }\n</style>\n<table border=\"1\" class=\"dataframe\">\n  <thead>\n    <tr style=\"text-align: right;\">\n      <th></th>\n      <th>hotspot</th>\n      <th>geometry</th>\n    </tr>\n  </thead>\n  <tbody>\n    <tr>\n      <th>0</th>\n      <td>0</td>\n      <td>POINT (23.59464 37.90098)</td>\n    </tr>\n    <tr>\n      <th>1</th>\n      <td>1</td>\n      <td>POINT (23.55553 37.95431)</td>\n    </tr>\n    <tr>\n      <th>2</th>\n      <td>2</td>\n      <td>POINT (23.63977 37.94226)</td>\n    </tr>\n    <tr>\n      <th>3</th>\n      <td>3</td>\n      <td>POINT (23.53577 37.86141)</td>\n    </tr>\n    <tr>\n      <th>4</th>\n      <td>4</td>\n      <td>POINT (23.60300 37.95217)</td>\n    </tr>\n  </tbody>\n</table>\n</div>"
     },
     "metadata": {},
     "execution_count": 7
    }
   ],
   "source": [
    "hotspots_gdf = gpd.GeoDataFrame({'hotspot': range(kmeans.n_clusters), 'geometry': map(lambda center : Point(center), kmeans.cluster_centers_)})\n",
    "hotspots_gdf.head()"
   ]
  },
  {
   "source": [
    "### Write the GeoDataframes to PostGIS"
   ],
   "cell_type": "markdown",
   "metadata": {}
  },
  {
   "cell_type": "code",
   "execution_count": 8,
   "metadata": {},
   "outputs": [],
   "source": [
    "hotspots_gdf.to_postgis('vessel_hot_spots', engine, dtype={'geom': Geometry('POINT', srid='4326')})\n",
    "\n",
    "clustered_points.to_postgis('vessels_per_hot_spot', engine, dtype={'geom': Geometry('POINT', srid='4326')})"
   ]
  }
 ]
}