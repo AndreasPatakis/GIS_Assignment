{
 "metadata": {
  "language_info": {
   "codemirror_mode": {
    "name": "ipython",
    "version": 3
   },
   "file_extension": ".py",
   "mimetype": "text/x-python",
   "name": "python",
   "nbconvert_exporter": "python",
   "pygments_lexer": "ipython3",
   "version": "3.9.7-final"
  },
  "orig_nbformat": 2,
  "kernelspec": {
   "name": "python39764bitvenva1be9c038f7449c5a8825d01acd636ba",
   "display_name": "Python 3.9.7 64-bit ('.venv')"
  }
 },
 "nbformat": 4,
 "nbformat_minor": 2,
 "cells": [
  {
   "source": [
    "# Collective movement"
   ],
   "cell_type": "markdown",
   "metadata": {}
  },
  {
   "source": [
    "### Using `EvolvingClustersKDT.py` from the `DataStories-UniPi/EvolvingClusters` repository"
   ],
   "cell_type": "markdown",
   "metadata": {}
  },
  {
   "cell_type": "code",
   "execution_count": 1,
   "metadata": {},
   "outputs": [],
   "source": [
    "from EvolvingClustersKDT import evolving_clusters"
   ]
  },
  {
   "source": [
    "### Imports"
   ],
   "cell_type": "markdown",
   "metadata": {}
  },
  {
   "cell_type": "code",
   "execution_count": 4,
   "metadata": {},
   "outputs": [],
   "source": [
    "from sklearn.cluster import KMeans\n",
    "from matplotlib import pyplot as plt\n",
    "from sqlalchemy import create_engine\n",
    "import geopandas as gpd\n",
    "import numpy as np\n",
    "import psycopg2\n",
    "\n",
    "from config import DB_CONFIG\n",
    "from preprocess import cleanse"
   ]
  },
  {
   "source": [
    "### Establish a db connection with PostGIS and cleanse the data"
   ],
   "cell_type": "markdown",
   "metadata": {}
  },
  {
   "cell_type": "code",
   "execution_count": 11,
   "metadata": {},
   "outputs": [
    {
     "output_type": "execute_result",
     "data": {
      "text/plain": [
       "         timest               dates typee       mmsi status     heading  turn  \\\n",
       "0  1.514824e+12 2018-01-01 16:32:09  None  239611000   None  105.811638  None   \n",
       "1  1.514824e+12 2018-01-01 16:32:09  None  248287000   None    0.000000  None   \n",
       "2  1.514824e+12 2018-01-01 16:32:09  None  239634000   None  322.909179  None   \n",
       "3  1.514824e+12 2018-01-01 16:32:10  None  636017265   None  122.463934  None   \n",
       "4  1.514824e+12 2018-01-01 16:32:10  None  237611000   None    0.000000  None   \n",
       "\n",
       "      speed  course                       geom  acceleration  \n",
       "0  0.008879   107.8  POINT (23.57052 37.95392) -3.160223e-09  \n",
       "1  0.000000   236.2  POINT (23.66830 37.93847)  0.000000e+00  \n",
       "2  0.007658   341.8  POINT (23.60115 37.94287) -1.623614e-08  \n",
       "3  0.002763   132.0  POINT (23.59912 37.88728) -2.387838e-08  \n",
       "4  0.000000   330.8  POINT (23.63504 37.94351) -5.881296e-09  "
      ],
      "text/html": "<div>\n<style scoped>\n    .dataframe tbody tr th:only-of-type {\n        vertical-align: middle;\n    }\n\n    .dataframe tbody tr th {\n        vertical-align: top;\n    }\n\n    .dataframe thead th {\n        text-align: right;\n    }\n</style>\n<table border=\"1\" class=\"dataframe\">\n  <thead>\n    <tr style=\"text-align: right;\">\n      <th></th>\n      <th>timest</th>\n      <th>dates</th>\n      <th>typee</th>\n      <th>mmsi</th>\n      <th>status</th>\n      <th>heading</th>\n      <th>turn</th>\n      <th>speed</th>\n      <th>course</th>\n      <th>geom</th>\n      <th>acceleration</th>\n    </tr>\n  </thead>\n  <tbody>\n    <tr>\n      <th>0</th>\n      <td>1.514824e+12</td>\n      <td>2018-01-01 16:32:09</td>\n      <td>None</td>\n      <td>239611000</td>\n      <td>None</td>\n      <td>105.811638</td>\n      <td>None</td>\n      <td>0.008879</td>\n      <td>107.8</td>\n      <td>POINT (23.57052 37.95392)</td>\n      <td>-3.160223e-09</td>\n    </tr>\n    <tr>\n      <th>1</th>\n      <td>1.514824e+12</td>\n      <td>2018-01-01 16:32:09</td>\n      <td>None</td>\n      <td>248287000</td>\n      <td>None</td>\n      <td>0.000000</td>\n      <td>None</td>\n      <td>0.000000</td>\n      <td>236.2</td>\n      <td>POINT (23.66830 37.93847)</td>\n      <td>0.000000e+00</td>\n    </tr>\n    <tr>\n      <th>2</th>\n      <td>1.514824e+12</td>\n      <td>2018-01-01 16:32:09</td>\n      <td>None</td>\n      <td>239634000</td>\n      <td>None</td>\n      <td>322.909179</td>\n      <td>None</td>\n      <td>0.007658</td>\n      <td>341.8</td>\n      <td>POINT (23.60115 37.94287)</td>\n      <td>-1.623614e-08</td>\n    </tr>\n    <tr>\n      <th>3</th>\n      <td>1.514824e+12</td>\n      <td>2018-01-01 16:32:10</td>\n      <td>None</td>\n      <td>636017265</td>\n      <td>None</td>\n      <td>122.463934</td>\n      <td>None</td>\n      <td>0.002763</td>\n      <td>132.0</td>\n      <td>POINT (23.59912 37.88728)</td>\n      <td>-2.387838e-08</td>\n    </tr>\n    <tr>\n      <th>4</th>\n      <td>1.514824e+12</td>\n      <td>2018-01-01 16:32:10</td>\n      <td>None</td>\n      <td>237611000</td>\n      <td>None</td>\n      <td>0.000000</td>\n      <td>None</td>\n      <td>0.000000</td>\n      <td>330.8</td>\n      <td>POINT (23.63504 37.94351)</td>\n      <td>-5.881296e-09</td>\n    </tr>\n  </tbody>\n</table>\n</div>"
     },
     "metadata": {},
     "execution_count": 11
    }
   ],
   "source": [
    "RECORDS_LIMIT = 50000\n",
    "conn = psycopg2.connect(**DB_CONFIG)\n",
    "\n",
    "all_points_sql = f'SELECT * FROM vessels_points_jan LIMIT {RECORDS_LIMIT} ORDER BY timest ASC'\n",
    "all_points_gdf =  gpd.GeoDataFrame.from_postgis(all_points_sql, conn, geom_col='geom')\n",
    "gdf = cleanse(all_points_gdf)\n",
    "\n",
    "gdf.head()"
   ]
  },
  {
   "cell_type": "code",
   "execution_count": 18,
   "metadata": {},
   "outputs": [
    {
     "output_type": "execute_result",
     "data": {
      "text/plain": [
       "         timest               dates typee       mmsi status     heading  turn  \\\n",
       "0  1.514824e+09 2018-01-01 16:32:09  None  239611000   None  105.811638  None   \n",
       "1  1.514824e+09 2018-01-01 16:32:09  None  248287000   None    0.000000  None   \n",
       "2  1.514824e+09 2018-01-01 16:32:09  None  239634000   None  322.909179  None   \n",
       "3  1.514824e+09 2018-01-01 16:32:10  None  636017265   None  122.463934  None   \n",
       "4  1.514824e+09 2018-01-01 16:32:10  None  237611000   None    0.000000  None   \n",
       "\n",
       "      speed  course                       geom  acceleration        lon  \\\n",
       "0  0.008879   107.8  POINT (23.57052 37.95392) -3.160223e-09  37.953917   \n",
       "1  0.000000   236.2  POINT (23.66830 37.93847)  0.000000e+00  37.938467   \n",
       "2  0.007658   341.8  POINT (23.60115 37.94287) -1.623614e-08  37.942870   \n",
       "3  0.002763   132.0  POINT (23.59912 37.88728) -2.387838e-08  37.887283   \n",
       "4  0.000000   330.8  POINT (23.63504 37.94351) -5.881296e-09  37.943513   \n",
       "\n",
       "         lat  \n",
       "0  23.570517  \n",
       "1  23.668300  \n",
       "2  23.601147  \n",
       "3  23.599117  \n",
       "4  23.635040  "
      ],
      "text/html": "<div>\n<style scoped>\n    .dataframe tbody tr th:only-of-type {\n        vertical-align: middle;\n    }\n\n    .dataframe tbody tr th {\n        vertical-align: top;\n    }\n\n    .dataframe thead th {\n        text-align: right;\n    }\n</style>\n<table border=\"1\" class=\"dataframe\">\n  <thead>\n    <tr style=\"text-align: right;\">\n      <th></th>\n      <th>timest</th>\n      <th>dates</th>\n      <th>typee</th>\n      <th>mmsi</th>\n      <th>status</th>\n      <th>heading</th>\n      <th>turn</th>\n      <th>speed</th>\n      <th>course</th>\n      <th>geom</th>\n      <th>acceleration</th>\n      <th>lon</th>\n      <th>lat</th>\n    </tr>\n  </thead>\n  <tbody>\n    <tr>\n      <th>0</th>\n      <td>1.514824e+09</td>\n      <td>2018-01-01 16:32:09</td>\n      <td>None</td>\n      <td>239611000</td>\n      <td>None</td>\n      <td>105.811638</td>\n      <td>None</td>\n      <td>0.008879</td>\n      <td>107.8</td>\n      <td>POINT (23.57052 37.95392)</td>\n      <td>-3.160223e-09</td>\n      <td>37.953917</td>\n      <td>23.570517</td>\n    </tr>\n    <tr>\n      <th>1</th>\n      <td>1.514824e+09</td>\n      <td>2018-01-01 16:32:09</td>\n      <td>None</td>\n      <td>248287000</td>\n      <td>None</td>\n      <td>0.000000</td>\n      <td>None</td>\n      <td>0.000000</td>\n      <td>236.2</td>\n      <td>POINT (23.66830 37.93847)</td>\n      <td>0.000000e+00</td>\n      <td>37.938467</td>\n      <td>23.668300</td>\n    </tr>\n    <tr>\n      <th>2</th>\n      <td>1.514824e+09</td>\n      <td>2018-01-01 16:32:09</td>\n      <td>None</td>\n      <td>239634000</td>\n      <td>None</td>\n      <td>322.909179</td>\n      <td>None</td>\n      <td>0.007658</td>\n      <td>341.8</td>\n      <td>POINT (23.60115 37.94287)</td>\n      <td>-1.623614e-08</td>\n      <td>37.942870</td>\n      <td>23.601147</td>\n    </tr>\n    <tr>\n      <th>3</th>\n      <td>1.514824e+09</td>\n      <td>2018-01-01 16:32:10</td>\n      <td>None</td>\n      <td>636017265</td>\n      <td>None</td>\n      <td>122.463934</td>\n      <td>None</td>\n      <td>0.002763</td>\n      <td>132.0</td>\n      <td>POINT (23.59912 37.88728)</td>\n      <td>-2.387838e-08</td>\n      <td>37.887283</td>\n      <td>23.599117</td>\n    </tr>\n    <tr>\n      <th>4</th>\n      <td>1.514824e+09</td>\n      <td>2018-01-01 16:32:10</td>\n      <td>None</td>\n      <td>237611000</td>\n      <td>None</td>\n      <td>0.000000</td>\n      <td>None</td>\n      <td>0.000000</td>\n      <td>330.8</td>\n      <td>POINT (23.63504 37.94351)</td>\n      <td>-5.881296e-09</td>\n      <td>37.943513</td>\n      <td>23.635040</td>\n    </tr>\n  </tbody>\n</table>\n</div>"
     },
     "metadata": {},
     "execution_count": 18
    }
   ],
   "source": [
    "gdf['lat'] = gdf['geom'].apply(lambda point: point.x)\n",
    "gdf['lon'] = gdf['geom'].apply(lambda point: point.y)\n",
    "gdf['timest'] = gdf['timest'].apply(lambda t: t / 1000.0)\n",
    "gdf.head()"
   ]
  },
  {
   "cell_type": "code",
   "execution_count": 19,
   "metadata": {},
   "outputs": [
    {
     "output_type": "stream",
     "name": "stderr",
     "text": [
      "100%|██████████| 18556/18556 [04:40<00:00, 66.23it/s] \n"
     ]
    }
   ],
   "source": [
    "res_mcs, res_mc = evolving_clusters(gdf, distance_threshold=1500, min_cardinality=5, time_threshold=5, disable_progress_bar=False, temporal_name='timest')"
   ]
  },
  {
   "cell_type": "code",
   "execution_count": 24,
   "metadata": {},
   "outputs": [
    {
     "output_type": "stream",
     "name": "stdout",
     "text": [
      "Empty DataFrame\nColumns: [clusters, st, et]\nIndex: []\nEmpty DataFrame\nColumns: [clusters, st, et]\nIndex: []\n"
     ]
    }
   ],
   "source": [
    "print(res_mc)\n",
    "print(res_mcs)"
   ]
  }
 ]
}