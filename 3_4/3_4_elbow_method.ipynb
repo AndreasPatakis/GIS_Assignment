{
  "nbformat": 4,
  "nbformat_minor": 0,
  "metadata": {
    "colab": {
      "name": "GIS.ipynb",
      "provenance": [],
      "collapsed_sections": [
        "exsHTk7jP5BA",
        "Byqv1oIHQBe-"
      ]
    },
    "kernelspec": {
      "name": "python3",
      "display_name": "Python 3"
    },
    "language_info": {
      "name": "python"
    }
  },
  "cells": [
    {
      "cell_type": "markdown",
      "metadata": {
        "id": "exsHTk7jP5BA"
      },
      "source": [
        "## Download and unzip datasets"
      ]
    },
    {
      "cell_type": "code",
      "metadata": {
        "colab": {
          "base_uri": "https://localhost:8080/"
        },
        "id": "s7O4XK71O7R-",
        "outputId": "02479d1d-4cde-4dfb-a726-957fb6f5957d"
      },
      "source": [
        "!wget https://www.dropbox.com/s/7swnoebwnuiy20y/unipi_kinematic_AIS_jan_feb2018.zip\n",
        "!unzip unipi_kinematic_AIS_jan_feb2018.zip"
      ],
      "execution_count": null,
      "outputs": [
        {
          "output_type": "stream",
          "name": "stdout",
          "text": [
            "--2021-10-06 15:35:27--  https://www.dropbox.com/s/7swnoebwnuiy20y/unipi_kinematic_AIS_jan_feb2018.zip\n",
            "Resolving www.dropbox.com (www.dropbox.com)... 162.125.4.18, 2620:100:601c:18::a27d:612\n",
            "Connecting to www.dropbox.com (www.dropbox.com)|162.125.4.18|:443... connected.\n",
            "HTTP request sent, awaiting response... 301 Moved Permanently\n",
            "Location: /s/raw/7swnoebwnuiy20y/unipi_kinematic_AIS_jan_feb2018.zip [following]\n",
            "--2021-10-06 15:35:27--  https://www.dropbox.com/s/raw/7swnoebwnuiy20y/unipi_kinematic_AIS_jan_feb2018.zip\n",
            "Reusing existing connection to www.dropbox.com:443.\n",
            "HTTP request sent, awaiting response... 302 Found\n",
            "Location: https://uc49398c6e39a7aa6f522993a8fd.dl.dropboxusercontent.com/cd/0/inline/BXikAu6Uh23bwai0GEsOsxOcSB44q6YV9DIcpepe3YxjIj7Z5MN6I3WjsBBkjtRJewp6qbwt1SusroGjVXwsWh9-c8xRPlzYlwFHunHifT1Su0xskT5YBMmghr_gaILkEpA1gdhASAZA9jaS-nDa6kDY/file# [following]\n",
            "--2021-10-06 15:35:28--  https://uc49398c6e39a7aa6f522993a8fd.dl.dropboxusercontent.com/cd/0/inline/BXikAu6Uh23bwai0GEsOsxOcSB44q6YV9DIcpepe3YxjIj7Z5MN6I3WjsBBkjtRJewp6qbwt1SusroGjVXwsWh9-c8xRPlzYlwFHunHifT1Su0xskT5YBMmghr_gaILkEpA1gdhASAZA9jaS-nDa6kDY/file\n",
            "Resolving uc49398c6e39a7aa6f522993a8fd.dl.dropboxusercontent.com (uc49398c6e39a7aa6f522993a8fd.dl.dropboxusercontent.com)... 162.125.6.15, 2620:100:601c:15::a27d:60f\n",
            "Connecting to uc49398c6e39a7aa6f522993a8fd.dl.dropboxusercontent.com (uc49398c6e39a7aa6f522993a8fd.dl.dropboxusercontent.com)|162.125.6.15|:443... connected.\n",
            "HTTP request sent, awaiting response... 302 Found\n",
            "Location: /cd/0/inline2/BXjRskgQ0siiI6b-IEGK54evW_UUQUjGOYXsyl-3MRpN2t-8Sj_31zNbXfmH4jI5cReRdxBjSNcnIW7V7BAyqHLcSBvix290qwhqXyMiQnD5jQnoN95kf7OOrU4XpnYAivJt1cEe-jEBXYUepqEHDha8AKGIRtXwdT89m8QE1p-eYTpZZlo3vN0LRsz6obI7uISJQ__aGKSchG28pRPje0rKP2SYF5_u2-qjkWiESBzKJMbHDtM58wL41JMdXILuluPRN43UxSMdfPmB8v6JA3QXJssP8jfnWLIqGHgTJs-dSQfjV1hazNDNKzVpF7b6wg_TzAuBDNF8pCwymE6QWOdZEajO9H5bP1C5J3LT2jBCEUf_nMSINwTyqJY0LtfMPRY/file [following]\n",
            "--2021-10-06 15:35:28--  https://uc49398c6e39a7aa6f522993a8fd.dl.dropboxusercontent.com/cd/0/inline2/BXjRskgQ0siiI6b-IEGK54evW_UUQUjGOYXsyl-3MRpN2t-8Sj_31zNbXfmH4jI5cReRdxBjSNcnIW7V7BAyqHLcSBvix290qwhqXyMiQnD5jQnoN95kf7OOrU4XpnYAivJt1cEe-jEBXYUepqEHDha8AKGIRtXwdT89m8QE1p-eYTpZZlo3vN0LRsz6obI7uISJQ__aGKSchG28pRPje0rKP2SYF5_u2-qjkWiESBzKJMbHDtM58wL41JMdXILuluPRN43UxSMdfPmB8v6JA3QXJssP8jfnWLIqGHgTJs-dSQfjV1hazNDNKzVpF7b6wg_TzAuBDNF8pCwymE6QWOdZEajO9H5bP1C5J3LT2jBCEUf_nMSINwTyqJY0LtfMPRY/file\n",
            "Reusing existing connection to uc49398c6e39a7aa6f522993a8fd.dl.dropboxusercontent.com:443.\n",
            "HTTP request sent, awaiting response... 200 OK\n",
            "Length: 128556638 (123M) [application/zip]\n",
            "Saving to: ‘unipi_kinematic_AIS_jan_feb2018.zip’\n",
            "\n",
            "unipi_kinematic_AIS 100%[===================>] 122.60M  83.1MB/s    in 1.5s    \n",
            "\n",
            "2021-10-06 15:35:30 (83.1 MB/s) - ‘unipi_kinematic_AIS_jan_feb2018.zip’ saved [128556638/128556638]\n",
            "\n",
            "Archive:  unipi_kinematic_AIS_jan_feb2018.zip\n",
            "  inflating: unipi_kinematic_AIS_feb2018.csv  \n",
            "  inflating: __MACOSX/._unipi_kinematic_AIS_feb2018.csv  \n",
            "  inflating: unipi_kinematic_AIS_jan2018.csv  \n",
            "  inflating: __MACOSX/._unipi_kinematic_AIS_jan2018.csv  \n",
            "  inflating: ReadMe.txt              \n",
            "  inflating: __MACOSX/._ReadMe.txt   \n"
          ]
        }
      ]
    },
    {
      "cell_type": "markdown",
      "metadata": {
        "id": "Byqv1oIHQBe-"
      },
      "source": [
        "## Install GeoPandas"
      ]
    },
    {
      "cell_type": "code",
      "metadata": {
        "colab": {
          "base_uri": "https://localhost:8080/"
        },
        "id": "254b9_GpRQO9",
        "outputId": "0429da2d-24fd-402a-aba0-0c808f948f93"
      },
      "source": [
        "!pip install geopandas"
      ],
      "execution_count": null,
      "outputs": [
        {
          "output_type": "stream",
          "name": "stdout",
          "text": [
            "Collecting geopandas\n",
            "  Downloading geopandas-0.10.0-py2.py3-none-any.whl (1.0 MB)\n",
            "\u001b[K     |████████████████████████████████| 1.0 MB 30.7 MB/s \n",
            "\u001b[?25hCollecting fiona>=1.8\n",
            "  Downloading Fiona-1.8.20-cp37-cp37m-manylinux1_x86_64.whl (15.4 MB)\n",
            "\u001b[K     |████████████████████████████████| 15.4 MB 39 kB/s \n",
            "\u001b[?25hRequirement already satisfied: shapely>=1.6 in /usr/local/lib/python3.7/dist-packages (from geopandas) (1.7.1)\n",
            "Requirement already satisfied: pandas>=0.25.0 in /usr/local/lib/python3.7/dist-packages (from geopandas) (1.1.5)\n",
            "Collecting pyproj>=2.2.0\n",
            "  Downloading pyproj-3.2.1-cp37-cp37m-manylinux2010_x86_64.whl (6.3 MB)\n",
            "\u001b[K     |████████████████████████████████| 6.3 MB 69.0 MB/s \n",
            "\u001b[?25hRequirement already satisfied: certifi in /usr/local/lib/python3.7/dist-packages (from fiona>=1.8->geopandas) (2021.5.30)\n",
            "Collecting cligj>=0.5\n",
            "  Downloading cligj-0.7.2-py3-none-any.whl (7.1 kB)\n",
            "Collecting click-plugins>=1.0\n",
            "  Downloading click_plugins-1.1.1-py2.py3-none-any.whl (7.5 kB)\n",
            "Requirement already satisfied: click>=4.0 in /usr/local/lib/python3.7/dist-packages (from fiona>=1.8->geopandas) (7.1.2)\n",
            "Requirement already satisfied: attrs>=17 in /usr/local/lib/python3.7/dist-packages (from fiona>=1.8->geopandas) (21.2.0)\n",
            "Collecting munch\n",
            "  Downloading munch-2.5.0-py2.py3-none-any.whl (10 kB)\n",
            "Requirement already satisfied: six>=1.7 in /usr/local/lib/python3.7/dist-packages (from fiona>=1.8->geopandas) (1.15.0)\n",
            "Requirement already satisfied: setuptools in /usr/local/lib/python3.7/dist-packages (from fiona>=1.8->geopandas) (57.4.0)\n",
            "Requirement already satisfied: numpy>=1.15.4 in /usr/local/lib/python3.7/dist-packages (from pandas>=0.25.0->geopandas) (1.19.5)\n",
            "Requirement already satisfied: python-dateutil>=2.7.3 in /usr/local/lib/python3.7/dist-packages (from pandas>=0.25.0->geopandas) (2.8.2)\n",
            "Requirement already satisfied: pytz>=2017.2 in /usr/local/lib/python3.7/dist-packages (from pandas>=0.25.0->geopandas) (2018.9)\n",
            "Installing collected packages: munch, cligj, click-plugins, pyproj, fiona, geopandas\n",
            "Successfully installed click-plugins-1.1.1 cligj-0.7.2 fiona-1.8.20 geopandas-0.10.0 munch-2.5.0 pyproj-3.2.1\n"
          ]
        }
      ]
    },
    {
      "cell_type": "markdown",
      "metadata": {
        "id": "jWWQxFyLRVyY"
      },
      "source": [
        "## Imports"
      ]
    },
    {
      "cell_type": "code",
      "metadata": {
        "id": "kTQ9ejfmQyN_"
      },
      "source": [
        "from sklearn.cluster import KMeans\n",
        "from matplotlib import pyplot as plt\n",
        "import geopandas as gpd\n",
        "import pandas as pd\n",
        "import numpy as np"
      ],
      "execution_count": null,
      "outputs": []
    },
    {
      "cell_type": "code",
      "metadata": {
        "id": "EqGETP51RVc-"
      },
      "source": [
        "df = pd.read_csv('unipi_kinematic_AIS_jan2018.csv', sep=';')"
      ],
      "execution_count": null,
      "outputs": []
    },
    {
      "cell_type": "code",
      "metadata": {
        "id": "Xe97dxCKRewm"
      },
      "source": [
        "gdf = gpd.GeoDataFrame(\n",
        "    df, geometry=gpd.points_from_xy(df.lat, df.lon))"
      ],
      "execution_count": null,
      "outputs": []
    },
    {
      "cell_type": "markdown",
      "metadata": {
        "id": "3foXxNBlS43W"
      },
      "source": [
        "## GeoSeries\n",
        "This is the same as the following\n",
        "```\n",
        "gdf = gpd.GeoDataFrame.from_postgis(traj_sql, conn, geom_col='geom')\n",
        "print(gdf.geom.x)\n",
        "```"
      ]
    },
    {
      "cell_type": "code",
      "metadata": {
        "colab": {
          "base_uri": "https://localhost:8080/"
        },
        "id": "aBGmTmIpSERi",
        "outputId": "f31c5eb9-e786-4969-85d8-098e55604fe6"
      },
      "source": [
        "geom = gpd.geoseries.GeoSeries(df.geometry)\n",
        "print(geom.x)"
      ],
      "execution_count": null,
      "outputs": [
        {
          "output_type": "stream",
          "name": "stdout",
          "text": [
            "0          37.947417\n",
            "1          37.949492\n",
            "2          37.944715\n",
            "3          37.946955\n",
            "4          37.943502\n",
            "             ...    \n",
            "5695686    37.930905\n",
            "5695687    37.951617\n",
            "5695688    37.950767\n",
            "5695689    37.944913\n",
            "5695690    37.954187\n",
            "Length: 5695691, dtype: float64\n"
          ]
        }
      ]
    },
    {
      "cell_type": "markdown",
      "metadata": {
        "id": "UwGuZon0Tdb_"
      },
      "source": [
        "## Elbow Method"
      ]
    },
    {
      "cell_type": "code",
      "metadata": {
        "colab": {
          "base_uri": "https://localhost:8080/"
        },
        "id": "_JzZjmYWRLVF",
        "outputId": "e3396091-32ce-43bb-fbca-d21556a4c6ca"
      },
      "source": [
        "X=np.column_stack((geom.x, geom.y))\n",
        "print(X)"
      ],
      "execution_count": null,
      "outputs": [
        {
          "output_type": "stream",
          "name": "stdout",
          "text": [
            "[[37.94741667 23.637135  ]\n",
            " [37.94949167 23.56244   ]\n",
            " [37.944715   23.64141333]\n",
            " ...\n",
            " [37.95076667 23.58135   ]\n",
            " [37.94491333 23.64104   ]\n",
            " [37.95418667 23.55102833]]\n"
          ]
        }
      ]
    },
    {
      "cell_type": "code",
      "metadata": {
        "colab": {
          "base_uri": "https://localhost:8080/",
          "height": 295
        },
        "id": "kVS1YBxHcmes",
        "outputId": "f1e6378b-f41a-48a2-f970-d38f5591e4f3"
      },
      "source": [
        "wcss = []\n",
        "for i in range(1, 14):\n",
        "    kmeans = KMeans(n_clusters = i, init = 'k-means++', random_state = 42)\n",
        "    kmeans.fit(X)\n",
        "    wcss.append(kmeans.inertia_)\n",
        "plt.plot(range(1, 14), wcss)\n",
        "plt.title('The Elbow Method')\n",
        "plt.xlabel('Number of clusters')\n",
        "plt.ylabel('WCSS')\n",
        "plt.show()"
      ],
      "execution_count": null,
      "outputs": [
        {
          "output_type": "display_data",
          "data": {
            "image/png": "[encoded data removed]",
            "text/plain": [
              "<Figure size 432x288 with 1 Axes>"
            ]
          },
          "metadata": {
            "needs_background": "light"
          }
        }
      ]
    }
  ]
}