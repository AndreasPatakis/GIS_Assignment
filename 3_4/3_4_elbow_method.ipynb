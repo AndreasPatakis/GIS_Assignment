{
  "nbformat": 4,
  "nbformat_minor": 0,
  "metadata": {
    "colab": {
      "name": "GIS.ipynb",
      "provenance": [],
      "collapsed_sections": [
        "exsHTk7jP5BA",
        "Byqv1oIHQBe-"
      ]
    },
    "kernelspec": {
      "name": "python3",
      "display_name": "Python 3"
    },
    "language_info": {
      "name": "python"
    }
  },
  "cells": [
    {
      "cell_type": "markdown",
      "metadata": {
        "id": "exsHTk7jP5BA"
      },
      "source": [
        "## Download and unzip datasets"
      ]
    },
    {
      "cell_type": "code",
      "metadata": {
        "colab": {
          "base_uri": "https://localhost:8080/"
        },
        "id": "s7O4XK71O7R-",
        "outputId": "7226583c-88c8-4236-a9d2-b3868f683a29"
      },
      "source": [
        "!wget https://www.dropbox.com/s/7swnoebwnuiy20y/unipi_kinematic_AIS_jan_feb2018.zip\n",
        "!unzip unipi_kinematic_AIS_jan_feb2018.zip"
      ],
      "execution_count": 1,
      "outputs": [
        {
          "output_type": "stream",
          "name": "stdout",
          "text": [
            "--2021-10-07 18:14:27--  https://www.dropbox.com/s/7swnoebwnuiy20y/unipi_kinematic_AIS_jan_feb2018.zip\n",
            "Resolving www.dropbox.com (www.dropbox.com)... 162.125.4.18, 2620:100:6019:18::a27d:412\n",
            "Connecting to www.dropbox.com (www.dropbox.com)|162.125.4.18|:443... connected.\n",
            "HTTP request sent, awaiting response... 301 Moved Permanently\n",
            "Location: /s/raw/7swnoebwnuiy20y/unipi_kinematic_AIS_jan_feb2018.zip [following]\n",
            "--2021-10-07 18:14:27--  https://www.dropbox.com/s/raw/7swnoebwnuiy20y/unipi_kinematic_AIS_jan_feb2018.zip\n",
            "Reusing existing connection to www.dropbox.com:443.\n",
            "HTTP request sent, awaiting response... 302 Found\n",
            "Location: https://ucddaf69a9990ae4bee0e102f25b.dl.dropboxusercontent.com/cd/0/inline/BXkj933SxVQAjFtrDwckXExEA75EbIVi9ET3Rzro7RzIspLRlvBNxP7hxChrN-TyEevc9aur6-0qevP5TQXQUub3PbQY8DZbWR62K9s8rz4t5bgisILOVJC0SBloaSbJH9mZa2sm3Ikdoq78ylb7vAND/file# [following]\n",
            "--2021-10-07 18:14:28--  https://ucddaf69a9990ae4bee0e102f25b.dl.dropboxusercontent.com/cd/0/inline/BXkj933SxVQAjFtrDwckXExEA75EbIVi9ET3Rzro7RzIspLRlvBNxP7hxChrN-TyEevc9aur6-0qevP5TQXQUub3PbQY8DZbWR62K9s8rz4t5bgisILOVJC0SBloaSbJH9mZa2sm3Ikdoq78ylb7vAND/file\n",
            "Resolving ucddaf69a9990ae4bee0e102f25b.dl.dropboxusercontent.com (ucddaf69a9990ae4bee0e102f25b.dl.dropboxusercontent.com)... 162.125.4.15, 2620:100:601c:15::a27d:60f\n",
            "Connecting to ucddaf69a9990ae4bee0e102f25b.dl.dropboxusercontent.com (ucddaf69a9990ae4bee0e102f25b.dl.dropboxusercontent.com)|162.125.4.15|:443... connected.\n",
            "HTTP request sent, awaiting response... 302 Found\n",
            "Location: /cd/0/inline2/BXkgKkkUVAq0Dv1jgdfwMMjkCwHXILz2xCJS8vtCMlU4I-oFmjm4Saa-3M-mzIsNdi11tMY1_OgzmFX5FmCaQxLRSYem0l2Unrjhg-ndoAP61zNN9XGZ0yn1x629x4gChtZemxQB0gozY-j7Ut_9GcZC2b4GkENyUuMOQ9RcW1XUmNAY9sJgMrCGSNluo-vzvyS0jZCatdm_VsemTlD0r4lmAVZp5wG6lOswSrWXwR9W_Ja7Seb_ixGJR59TQ_eCazqWQCj1xMrGNPaapoEttFvg56n3G5oNJH9K3Ts71rbwXcSq3g2bLV5tLHDfGuTQ3fU1nfk87G139uRxyhkNdTOmh-8SSlBEJVFyS-fdkxHoNcSYcZaXBGL4PLHRJI3MZ_M/file [following]\n",
            "--2021-10-07 18:14:28--  https://ucddaf69a9990ae4bee0e102f25b.dl.dropboxusercontent.com/cd/0/inline2/BXkgKkkUVAq0Dv1jgdfwMMjkCwHXILz2xCJS8vtCMlU4I-oFmjm4Saa-3M-mzIsNdi11tMY1_OgzmFX5FmCaQxLRSYem0l2Unrjhg-ndoAP61zNN9XGZ0yn1x629x4gChtZemxQB0gozY-j7Ut_9GcZC2b4GkENyUuMOQ9RcW1XUmNAY9sJgMrCGSNluo-vzvyS0jZCatdm_VsemTlD0r4lmAVZp5wG6lOswSrWXwR9W_Ja7Seb_ixGJR59TQ_eCazqWQCj1xMrGNPaapoEttFvg56n3G5oNJH9K3Ts71rbwXcSq3g2bLV5tLHDfGuTQ3fU1nfk87G139uRxyhkNdTOmh-8SSlBEJVFyS-fdkxHoNcSYcZaXBGL4PLHRJI3MZ_M/file\n",
            "Reusing existing connection to ucddaf69a9990ae4bee0e102f25b.dl.dropboxusercontent.com:443.\n",
            "HTTP request sent, awaiting response... 200 OK\n",
            "Length: 128556638 (123M) [application/zip]\n",
            "Saving to: ‘unipi_kinematic_AIS_jan_feb2018.zip’\n",
            "\n",
            "unipi_kinematic_AIS 100%[===================>] 122.60M  43.9MB/s    in 2.8s    \n",
            "\n",
            "2021-10-07 18:14:31 (43.9 MB/s) - ‘unipi_kinematic_AIS_jan_feb2018.zip’ saved [128556638/128556638]\n",
            "\n",
            "Archive:  unipi_kinematic_AIS_jan_feb2018.zip\n",
            "  inflating: unipi_kinematic_AIS_feb2018.csv  \n",
            "  inflating: __MACOSX/._unipi_kinematic_AIS_feb2018.csv  \n",
            "  inflating: unipi_kinematic_AIS_jan2018.csv  \n",
            "  inflating: __MACOSX/._unipi_kinematic_AIS_jan2018.csv  \n",
            "  inflating: ReadMe.txt              \n",
            "  inflating: __MACOSX/._ReadMe.txt   \n"
          ]
        }
      ]
    },
    {
      "cell_type": "markdown",
      "metadata": {
        "id": "Byqv1oIHQBe-"
      },
      "source": [
        "## Install GeoPandas"
      ]
    },
    {
      "cell_type": "code",
      "metadata": {
        "colab": {
          "base_uri": "https://localhost:8080/"
        },
        "id": "254b9_GpRQO9",
        "outputId": "016f111d-944f-4db7-815d-4c014c0c3c9a"
      },
      "source": [
        "!pip install geopandas"
      ],
      "execution_count": 2,
      "outputs": [
        {
          "output_type": "stream",
          "name": "stdout",
          "text": [
            "Collecting geopandas\n",
            "  Downloading geopandas-0.10.0-py2.py3-none-any.whl (1.0 MB)\n",
            "\u001b[?25l\r\u001b[K     |▎                               | 10 kB 28.9 MB/s eta 0:00:01\r\u001b[K     |▋                               | 20 kB 35.5 MB/s eta 0:00:01\r\u001b[K     |█                               | 30 kB 38.6 MB/s eta 0:00:01\r\u001b[K     |█▎                              | 40 kB 34.0 MB/s eta 0:00:01\r\u001b[K     |█▋                              | 51 kB 28.5 MB/s eta 0:00:01\r\u001b[K     |██                              | 61 kB 27.5 MB/s eta 0:00:01\r\u001b[K     |██▎                             | 71 kB 25.5 MB/s eta 0:00:01\r\u001b[K     |██▌                             | 81 kB 27.4 MB/s eta 0:00:01\r\u001b[K     |██▉                             | 92 kB 29.5 MB/s eta 0:00:01\r\u001b[K     |███▏                            | 102 kB 29.8 MB/s eta 0:00:01\r\u001b[K     |███▌                            | 112 kB 29.8 MB/s eta 0:00:01\r\u001b[K     |███▉                            | 122 kB 29.8 MB/s eta 0:00:01\r\u001b[K     |████▏                           | 133 kB 29.8 MB/s eta 0:00:01\r\u001b[K     |████▌                           | 143 kB 29.8 MB/s eta 0:00:01\r\u001b[K     |████▊                           | 153 kB 29.8 MB/s eta 0:00:01\r\u001b[K     |█████                           | 163 kB 29.8 MB/s eta 0:00:01\r\u001b[K     |█████▍                          | 174 kB 29.8 MB/s eta 0:00:01\r\u001b[K     |█████▊                          | 184 kB 29.8 MB/s eta 0:00:01\r\u001b[K     |██████                          | 194 kB 29.8 MB/s eta 0:00:01\r\u001b[K     |██████▍                         | 204 kB 29.8 MB/s eta 0:00:01\r\u001b[K     |██████▊                         | 215 kB 29.8 MB/s eta 0:00:01\r\u001b[K     |███████                         | 225 kB 29.8 MB/s eta 0:00:01\r\u001b[K     |███████▎                        | 235 kB 29.8 MB/s eta 0:00:01\r\u001b[K     |███████▋                        | 245 kB 29.8 MB/s eta 0:00:01\r\u001b[K     |████████                        | 256 kB 29.8 MB/s eta 0:00:01\r\u001b[K     |████████▎                       | 266 kB 29.8 MB/s eta 0:00:01\r\u001b[K     |████████▋                       | 276 kB 29.8 MB/s eta 0:00:01\r\u001b[K     |█████████                       | 286 kB 29.8 MB/s eta 0:00:01\r\u001b[K     |█████████▎                      | 296 kB 29.8 MB/s eta 0:00:01\r\u001b[K     |█████████▌                      | 307 kB 29.8 MB/s eta 0:00:01\r\u001b[K     |█████████▉                      | 317 kB 29.8 MB/s eta 0:00:01\r\u001b[K     |██████████▏                     | 327 kB 29.8 MB/s eta 0:00:01\r\u001b[K     |██████████▌                     | 337 kB 29.8 MB/s eta 0:00:01\r\u001b[K     |██████████▉                     | 348 kB 29.8 MB/s eta 0:00:01\r\u001b[K     |███████████▏                    | 358 kB 29.8 MB/s eta 0:00:01\r\u001b[K     |███████████▌                    | 368 kB 29.8 MB/s eta 0:00:01\r\u001b[K     |███████████▊                    | 378 kB 29.8 MB/s eta 0:00:01\r\u001b[K     |████████████                    | 389 kB 29.8 MB/s eta 0:00:01\r\u001b[K     |████████████▍                   | 399 kB 29.8 MB/s eta 0:00:01\r\u001b[K     |████████████▊                   | 409 kB 29.8 MB/s eta 0:00:01\r\u001b[K     |█████████████                   | 419 kB 29.8 MB/s eta 0:00:01\r\u001b[K     |█████████████▍                  | 430 kB 29.8 MB/s eta 0:00:01\r\u001b[K     |█████████████▊                  | 440 kB 29.8 MB/s eta 0:00:01\r\u001b[K     |██████████████                  | 450 kB 29.8 MB/s eta 0:00:01\r\u001b[K     |██████████████▎                 | 460 kB 29.8 MB/s eta 0:00:01\r\u001b[K     |██████████████▋                 | 471 kB 29.8 MB/s eta 0:00:01\r\u001b[K     |███████████████                 | 481 kB 29.8 MB/s eta 0:00:01\r\u001b[K     |███████████████▎                | 491 kB 29.8 MB/s eta 0:00:01\r\u001b[K     |███████████████▋                | 501 kB 29.8 MB/s eta 0:00:01\r\u001b[K     |████████████████                | 512 kB 29.8 MB/s eta 0:00:01\r\u001b[K     |████████████████▏               | 522 kB 29.8 MB/s eta 0:00:01\r\u001b[K     |████████████████▌               | 532 kB 29.8 MB/s eta 0:00:01\r\u001b[K     |████████████████▉               | 542 kB 29.8 MB/s eta 0:00:01\r\u001b[K     |█████████████████▏              | 552 kB 29.8 MB/s eta 0:00:01\r\u001b[K     |█████████████████▌              | 563 kB 29.8 MB/s eta 0:00:01\r\u001b[K     |█████████████████▉              | 573 kB 29.8 MB/s eta 0:00:01\r\u001b[K     |██████████████████▏             | 583 kB 29.8 MB/s eta 0:00:01\r\u001b[K     |██████████████████▌             | 593 kB 29.8 MB/s eta 0:00:01\r\u001b[K     |██████████████████▊             | 604 kB 29.8 MB/s eta 0:00:01\r\u001b[K     |███████████████████             | 614 kB 29.8 MB/s eta 0:00:01\r\u001b[K     |███████████████████▍            | 624 kB 29.8 MB/s eta 0:00:01\r\u001b[K     |███████████████████▊            | 634 kB 29.8 MB/s eta 0:00:01\r\u001b[K     |████████████████████            | 645 kB 29.8 MB/s eta 0:00:01\r\u001b[K     |████████████████████▍           | 655 kB 29.8 MB/s eta 0:00:01\r\u001b[K     |████████████████████▊           | 665 kB 29.8 MB/s eta 0:00:01\r\u001b[K     |█████████████████████           | 675 kB 29.8 MB/s eta 0:00:01\r\u001b[K     |█████████████████████▎          | 686 kB 29.8 MB/s eta 0:00:01\r\u001b[K     |█████████████████████▋          | 696 kB 29.8 MB/s eta 0:00:01\r\u001b[K     |██████████████████████          | 706 kB 29.8 MB/s eta 0:00:01\r\u001b[K     |██████████████████████▎         | 716 kB 29.8 MB/s eta 0:00:01\r\u001b[K     |██████████████████████▋         | 727 kB 29.8 MB/s eta 0:00:01\r\u001b[K     |███████████████████████         | 737 kB 29.8 MB/s eta 0:00:01\r\u001b[K     |███████████████████████▏        | 747 kB 29.8 MB/s eta 0:00:01\r\u001b[K     |███████████████████████▌        | 757 kB 29.8 MB/s eta 0:00:01\r\u001b[K     |███████████████████████▉        | 768 kB 29.8 MB/s eta 0:00:01\r\u001b[K     |████████████████████████▏       | 778 kB 29.8 MB/s eta 0:00:01\r\u001b[K     |████████████████████████▌       | 788 kB 29.8 MB/s eta 0:00:01\r\u001b[K     |████████████████████████▉       | 798 kB 29.8 MB/s eta 0:00:01\r\u001b[K     |█████████████████████████▏      | 808 kB 29.8 MB/s eta 0:00:01\r\u001b[K     |█████████████████████████▍      | 819 kB 29.8 MB/s eta 0:00:01\r\u001b[K     |█████████████████████████▊      | 829 kB 29.8 MB/s eta 0:00:01\r\u001b[K     |██████████████████████████      | 839 kB 29.8 MB/s eta 0:00:01\r\u001b[K     |██████████████████████████▍     | 849 kB 29.8 MB/s eta 0:00:01\r\u001b[K     |██████████████████████████▊     | 860 kB 29.8 MB/s eta 0:00:01\r\u001b[K     |███████████████████████████     | 870 kB 29.8 MB/s eta 0:00:01\r\u001b[K     |███████████████████████████▍    | 880 kB 29.8 MB/s eta 0:00:01\r\u001b[K     |███████████████████████████▊    | 890 kB 29.8 MB/s eta 0:00:01\r\u001b[K     |████████████████████████████    | 901 kB 29.8 MB/s eta 0:00:01\r\u001b[K     |████████████████████████████▎   | 911 kB 29.8 MB/s eta 0:00:01\r\u001b[K     |████████████████████████████▋   | 921 kB 29.8 MB/s eta 0:00:01\r\u001b[K     |█████████████████████████████   | 931 kB 29.8 MB/s eta 0:00:01\r\u001b[K     |█████████████████████████████▎  | 942 kB 29.8 MB/s eta 0:00:01\r\u001b[K     |█████████████████████████████▋  | 952 kB 29.8 MB/s eta 0:00:01\r\u001b[K     |██████████████████████████████  | 962 kB 29.8 MB/s eta 0:00:01\r\u001b[K     |██████████████████████████████▏ | 972 kB 29.8 MB/s eta 0:00:01\r\u001b[K     |██████████████████████████████▌ | 983 kB 29.8 MB/s eta 0:00:01\r\u001b[K     |██████████████████████████████▉ | 993 kB 29.8 MB/s eta 0:00:01\r\u001b[K     |███████████████████████████████▏| 1.0 MB 29.8 MB/s eta 0:00:01\r\u001b[K     |███████████████████████████████▌| 1.0 MB 29.8 MB/s eta 0:00:01\r\u001b[K     |███████████████████████████████▉| 1.0 MB 29.8 MB/s eta 0:00:01\r\u001b[K     |████████████████████████████████| 1.0 MB 29.8 MB/s \n",
            "\u001b[?25hRequirement already satisfied: pandas>=0.25.0 in /usr/local/lib/python3.7/dist-packages (from geopandas) (1.1.5)\n",
            "Collecting fiona>=1.8\n",
            "  Downloading Fiona-1.8.20-cp37-cp37m-manylinux1_x86_64.whl (15.4 MB)\n",
            "\u001b[K     |████████████████████████████████| 15.4 MB 39 kB/s \n",
            "\u001b[?25hRequirement already satisfied: shapely>=1.6 in /usr/local/lib/python3.7/dist-packages (from geopandas) (1.7.1)\n",
            "Collecting pyproj>=2.2.0\n",
            "  Downloading pyproj-3.2.1-cp37-cp37m-manylinux2010_x86_64.whl (6.3 MB)\n",
            "\u001b[K     |████████████████████████████████| 6.3 MB 50.6 MB/s \n",
            "\u001b[?25hRequirement already satisfied: attrs>=17 in /usr/local/lib/python3.7/dist-packages (from fiona>=1.8->geopandas) (21.2.0)\n",
            "Requirement already satisfied: click>=4.0 in /usr/local/lib/python3.7/dist-packages (from fiona>=1.8->geopandas) (7.1.2)\n",
            "Collecting cligj>=0.5\n",
            "  Downloading cligj-0.7.2-py3-none-any.whl (7.1 kB)\n",
            "Requirement already satisfied: six>=1.7 in /usr/local/lib/python3.7/dist-packages (from fiona>=1.8->geopandas) (1.15.0)\n",
            "Collecting munch\n",
            "  Downloading munch-2.5.0-py2.py3-none-any.whl (10 kB)\n",
            "Requirement already satisfied: certifi in /usr/local/lib/python3.7/dist-packages (from fiona>=1.8->geopandas) (2021.5.30)\n",
            "Collecting click-plugins>=1.0\n",
            "  Downloading click_plugins-1.1.1-py2.py3-none-any.whl (7.5 kB)\n",
            "Requirement already satisfied: setuptools in /usr/local/lib/python3.7/dist-packages (from fiona>=1.8->geopandas) (57.4.0)\n",
            "Requirement already satisfied: numpy>=1.15.4 in /usr/local/lib/python3.7/dist-packages (from pandas>=0.25.0->geopandas) (1.19.5)\n",
            "Requirement already satisfied: pytz>=2017.2 in /usr/local/lib/python3.7/dist-packages (from pandas>=0.25.0->geopandas) (2018.9)\n",
            "Requirement already satisfied: python-dateutil>=2.7.3 in /usr/local/lib/python3.7/dist-packages (from pandas>=0.25.0->geopandas) (2.8.2)\n",
            "Installing collected packages: munch, cligj, click-plugins, pyproj, fiona, geopandas\n",
            "Successfully installed click-plugins-1.1.1 cligj-0.7.2 fiona-1.8.20 geopandas-0.10.0 munch-2.5.0 pyproj-3.2.1\n"
          ]
        }
      ]
    },
    {
      "cell_type": "markdown",
      "metadata": {
        "id": "jWWQxFyLRVyY"
      },
      "source": [
        "## Imports"
      ]
    },
    {
      "cell_type": "code",
      "metadata": {
        "id": "kTQ9ejfmQyN_"
      },
      "source": [
        "from sklearn.cluster import KMeans\n",
        "from matplotlib import pyplot as plt\n",
        "import geopandas as gpd\n",
        "import pandas as pd\n",
        "import numpy as np"
      ],
      "execution_count": 3,
      "outputs": []
    },
    {
      "cell_type": "markdown",
      "metadata": {
        "id": "bk_ESyiY9anS"
      },
      "source": [
        "## Helper Methods"
      ]
    },
    {
      "cell_type": "code",
      "metadata": {
        "id": "75PoW8T_9VM3"
      },
      "source": [
        "def haversine(p_1, p_2):\n",
        "\t'''\n",
        "\t\tReturn the Haversine Distance of two points in KM\n",
        "\t'''\n",
        "\tlon1, lat1, lon2, lat2 = map(np.deg2rad, [p_1[0], p_1[1], p_2[0], p_2[1]])   \n",
        "\t\n",
        "\tdlon = lon2 - lon1\n",
        "\tdlat = lat2 - lat1    \n",
        "\ta = np.power(np.sin(dlat * 0.5), 2) + np.cos(lat1) * np.cos(lat2) * np.power(np.sin(dlon * 0.5), 2)    \n",
        "\t\n",
        "\treturn 2 * 6371.0088 * np.arcsin(np.sqrt(a))\n",
        "\n",
        "def calculate_acceleration(gdf, spd_column='velocity', ts_column='ts'):\n",
        "\t'''\n",
        "\tReturn given dataframe with an extra acceleration column that\n",
        "\tis calculated using the rate of change of velocity over time.\n",
        "\t'''\n",
        "\t# if there is only one point in the trajectory its acceleration will be zero (i.e. constant speed)\n",
        "\tif len(gdf) == 1:\n",
        "\t\tgdf.loc[:, 'acceleration'] = 0\n",
        "\t\treturn gdf\n",
        "\t\n",
        "\tgdf.loc[:, 'acceleration'] = gdf[spd_column].diff(-1).divide(gdf[ts_column].diff(-1).abs())\n",
        "\tgdf.dropna(subset=['geom'], inplace=True)\n",
        "\t\n",
        "\treturn gdf\n",
        "\n",
        "def calculate_velocity(gdf, spd_column='velocity', ts_column='ts'):\n",
        "\t'''\n",
        "\tReturn given dataframe with an extra velocity column that \n",
        "\tis calculated using the distance covered in a given amount of time.\n",
        "\tTODO - use the get distance method to save some space\n",
        "\t'''\n",
        "\t# if there is only one point in the trajectory its velocity will be the one measured from the speedometer\n",
        "\tif len(gdf) == 1:\n",
        "\t\tif spd_column is not None:\n",
        "\t\t\tgdf.loc[:, 'velocity'] = gdf[spd_column]\n",
        "\t\telse:\n",
        "\t\t\tgdf.loc[:, 'velocity'] = np.nan\n",
        "\t\treturn gdf\n",
        "\n",
        "\t# create columns for current and next location. Drop the last columns that contains the nan value\n",
        "\tgdf.loc[:, 'current_loc'] = gdf.geom.apply(lambda x: (x.x,x.y))\n",
        "\tgdf.loc[:, 'next_loc'] = gdf.geom.shift(-1)\n",
        "\tgdf.loc[:, 'dt'] = gdf[ts_column].diff(-1).abs()\n",
        "\t\n",
        "\tgdf = gdf.iloc[:-1]\n",
        "\tgdf.next_loc = gdf.next_loc.apply(lambda x : (x.x,x.y)) \n",
        "\t\t\n",
        "\t# get the distance traveled in n-miles and multiply by the rate given (3600/secs for knots)\n",
        "\tgdf.loc[:,'velocity'] = gdf[['current_loc', 'next_loc']].apply(lambda x : haversine(x[0], x[1])*0.539956803 , axis=1).multiply(3600/gdf.dt)\n",
        "\n",
        "\tgdf.drop(['current_loc', 'next_loc', 'dt'], axis=1, inplace=True)\n",
        "\tgdf.dropna(subset=['geom'], inplace=True)\n",
        "\t\n",
        "\treturn gdf\n",
        "\n",
        "def calculate_angle(point1, point2):\n",
        "\t'''\n",
        "\t\tCalculating initial bearing between two points\n",
        "\t'''\n",
        "\tlon1, lat1 = point1[0], point1[1]\n",
        "\tlon2, lat2 = point2[0], point2[1]\n",
        "\n",
        "\tdlat = (lat2 - lat1)\n",
        "\tdlon = (lon2 - lon1)\n",
        "\tnumerator = np.sin(dlon) * np.cos(lat2)\n",
        "\tdenominator = (\n",
        "\t\tnp.cos(lat1) * np.sin(lat2) -\n",
        "\t\t(np.sin(lat1) * np.cos(lat2) * np.cos(dlon))\n",
        "\t)\n",
        "\n",
        "\ttheta = np.arctan2(numerator, denominator)\n",
        "\ttheta_deg = (np.degrees(theta) + 360) % 360\n",
        "\treturn theta_deg\n",
        "\n",
        "def calculate_bearing(gdf, course_column='course'):\n",
        "\t'''\n",
        "\tReturn given dataframe with an extra bearing column that\n",
        "\tis calculated using the course over ground (in degrees in range [0, 360))\n",
        "\t'''\n",
        "\t# if there is only one point in the trajectory its bearing will be the one measured from the accelerometer\n",
        "\tif len(gdf) == 1:\n",
        "\t\tif course_column is not None:\n",
        "\t\t\tgdf.loc[:, 'bearing'] = gdf[course_column]\n",
        "\t\telse:\n",
        "\t\t\tgdf.loc[:, 'bearing'] = np.nan\n",
        "\t\treturn gdf\n",
        "\n",
        "\t# create columns for current and next location. Drop the last columns that contains the nan value\n",
        "\tgdf.loc[:, 'current_loc'] = gdf.geom.apply(lambda x: (x.x,x.y))\n",
        "\tgdf.loc[:, 'next_loc'] = gdf.geom.shift(-1)\n",
        "\tgdf = gdf.iloc[:-1]\n",
        "\t\n",
        "\tgdf.next_loc = gdf.next_loc.apply(lambda x : (x.x,x.y))\n",
        "\t\n",
        "\tgdf.loc[:,'bearing'] = gdf[['current_loc', 'next_loc']].apply(lambda x: calculate_angle(x[0], x[1]), axis=1)\n",
        "\n",
        "\tgdf.drop(['current_loc', 'next_loc'], axis=1, inplace=True)\n",
        "\tgdf.dropna(subset=['geom'], inplace=True)\n",
        "\t\n",
        "\treturn gdf\n",
        "\n",
        "\n",
        "def cleanse(traj_gdf):\n",
        "    '''GeoDataFrame cleansing.'''\n",
        "    \n",
        "    # Remove duplicate points\n",
        "    traj_gdf.drop_duplicates(subset=['t', 'mmsi'], inplace=True)\n",
        "\n",
        "    # Recalculate speed\n",
        "    traj_gdf['speed'] = traj_gdf.copy().groupby('mmsi', group_keys=False).apply(lambda gdf: calculate_velocity(gdf, spd_column='speed', ts_column='t'))['velocity']\n",
        "\n",
        "    # Recalculate heading\n",
        "    traj_gdf['heading'] = traj_gdf.copy().groupby('mmsi', group_keys=False).apply(lambda gdf: calculate_bearing(gdf))['bearing']\n",
        "    \n",
        "    # Calculate acceleration\n",
        "    traj_gdf = traj_gdf.groupby('mmsi', group_keys=False).apply(lambda gdf: calculate_acceleration(gdf, spd_column='speed', ts_column='t'))\n",
        "\n",
        "    # Drop NaN values\n",
        "    return traj_gdf.dropna(subset=['speed', 'heading', 'acceleration'])\n"
      ],
      "execution_count": 9,
      "outputs": []
    },
    {
      "cell_type": "markdown",
      "metadata": {
        "id": "vEOoXxLa9Wgw"
      },
      "source": [
        "## Load the dataset"
      ]
    },
    {
      "cell_type": "code",
      "metadata": {
        "id": "EqGETP51RVc-"
      },
      "source": [
        "df = pd.read_csv('unipi_kinematic_AIS_jan2018.csv', sep=';')"
      ],
      "execution_count": 5,
      "outputs": []
    },
    {
      "cell_type": "code",
      "metadata": {
        "id": "Xe97dxCKRewm"
      },
      "source": [
        "gdf = gpd.GeoDataFrame(\n",
        "    df, geometry=gpd.points_from_xy(df.lat, df.lon))"
      ],
      "execution_count": 11,
      "outputs": []
    },
    {
      "cell_type": "code",
      "metadata": {
        "id": "XX_MI0_nBAKA"
      },
      "source": [
        "gdf['geom'] = gpd.geoseries.GeoSeries(df.geometry)\n",
        "gdf = cleanse(gdf)"
      ],
      "execution_count": 15,
      "outputs": []
    },
    {
      "cell_type": "markdown",
      "metadata": {
        "id": "UwGuZon0Tdb_"
      },
      "source": [
        "## Elbow Method"
      ]
    },
    {
      "cell_type": "code",
      "metadata": {
        "colab": {
          "base_uri": "https://localhost:8080/"
        },
        "id": "_JzZjmYWRLVF",
        "outputId": "c4eaa9c5-3fdc-40cc-914f-78f43a72cfd0"
      },
      "source": [
        "X=np.column_stack((gdf.geom.x, gdf.geom.y))\n",
        "print(X)"
      ],
      "execution_count": 16,
      "outputs": [
        {
          "output_type": "stream",
          "name": "stdout",
          "text": [
            "[[37.94741667 23.637135  ]\n",
            " [37.94949167 23.56244   ]\n",
            " [37.944715   23.64141333]\n",
            " ...\n",
            " [37.94039833 23.62508167]\n",
            " [37.94490167 23.64103667]\n",
            " [37.94490667 23.64103833]]\n"
          ]
        }
      ]
    },
    {
      "cell_type": "code",
      "metadata": {
        "colab": {
          "base_uri": "https://localhost:8080/",
          "height": 295
        },
        "id": "kVS1YBxHcmes",
        "outputId": "3bfce92d-84de-46d7-ab7a-e4623b16fe33"
      },
      "source": [
        "wcss = []\n",
        "for i in range(1, 14):\n",
        "    kmeans = KMeans(n_clusters = i, init = 'k-means++', random_state = 42)\n",
        "    kmeans.fit(X)\n",
        "    wcss.append(kmeans.inertia_)\n",
        "plt.plot(range(1, 14), wcss)\n",
        "plt.title('The Elbow Method')\n",
        "plt.xlabel('Number of clusters')\n",
        "plt.ylabel('WCSS')\n",
        "plt.show()"
      ],
      "execution_count": 17,
      "outputs": [
        {
          "output_type": "display_data",
          "data": {
            "image/png": "[encoded data removed]",
            "text/plain": [
              "<Figure size 432x288 with 1 Axes>"
            ]
          },
          "metadata": {
            "needs_background": "light"
          }
        }
      ]
    }
  ]
}